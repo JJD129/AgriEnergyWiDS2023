{
 "cells": [
  {
   "cell_type": "code",
   "execution_count": null,
   "id": "554921ae-5139-4503-a563-8b6ed3be1bbc",
   "metadata": {},
   "outputs": [],
   "source": [
    "# import required packages\n",
    "import pandas as pd\n",
    "import math\n",
    "import sklearn.metrics\n",
    "import warnings\n",
    "warnings.filterwarnings('ignore')\n",
    "import matplotlib.pyplot as plt\n",
    "import matplotlib.dates as md\n",
    "import seaborn as sns\n",
    "import numpy as np\n",
    "import xgboost as xgb\n",
    "from category_encoders.target_encoder import TargetEncoder\n"
   ]
  },
  {
   "cell_type": "code",
   "execution_count": null,
   "id": "50179e70-5f33-45bd-974e-298a2fc3b63e",
   "metadata": {},
   "outputs": [],
   "source": [
    "train_df = pd.read_csv('train_data.csv', parse_dates= ['startdate']) \n",
    "test_df = pd.read_csv('test_data.csv',  parse_dates= ['startdate']) "
   ]
  },
  {
   "cell_type": "code",
   "execution_count": null,
   "id": "0d56558d-e247-4005-b92e-d48f9439df3d",
   "metadata": {},
   "outputs": [],
   "source": [
    "train_df.head()"
   ]
  },
  {
   "cell_type": "code",
   "execution_count": null,
   "id": "dd672536-ea4a-4b4b-8466-4a4c84b5d5d4",
   "metadata": {},
   "outputs": [],
   "source": [
    "test_df.head()"
   ]
  },
  {
   "cell_type": "code",
   "execution_count": null,
   "id": "85ad0f43-fb18-4fd5-ad30-72bb85d0c6a1",
   "metadata": {},
   "outputs": [],
   "source": [
    "train_df.info()"
   ]
  },
  {
   "cell_type": "code",
   "execution_count": null,
   "id": "1d4c969d-4f44-4ee2-a301-e680582e6acc",
   "metadata": {},
   "outputs": [],
   "source": [
    "test_df.info()"
   ]
  },
  {
   "cell_type": "code",
   "execution_count": null,
   "id": "0e49ab8b-87c3-4815-9f40-b1c704764e3d",
   "metadata": {},
   "outputs": [],
   "source": [
    "train_df.describe()"
   ]
  },
  {
   "cell_type": "code",
   "execution_count": null,
   "id": "e34fb7cf-6553-41c6-84ed-7d4511db6eb9",
   "metadata": {},
   "outputs": [],
   "source": [
    "test_df.describe()"
   ]
  },
  {
   "cell_type": "code",
   "execution_count": null,
   "id": "6981ca9f-2f7c-4cfd-a9a1-cfcb3d22d29e",
   "metadata": {},
   "outputs": [],
   "source": [
    "# Check for NaN values in the dataframe\n",
    "nan_cols_train = train_df.isna().any()\n",
    "\n",
    "# Count the number of NaN values in each column that contains NaN values\n",
    "nan_count_train = train_df.isna().sum()[nan_cols_train]\n",
    "\n",
    "print(nan_count_train)"
   ]
  },
  {
   "cell_type": "code",
   "execution_count": null,
   "id": "ea401ce4-a4ef-4c85-8fc7-5156f665bd27",
   "metadata": {},
   "outputs": [],
   "source": [
    "nan_cols_test = test_df.isna().any()\n",
    "\n",
    "# Count the number of NaN values in each column that contains NaN values\n",
    "nan_count_test = test_df.isna().sum()[nan_cols_test]\n",
    "\n",
    "print(nan_count_test)"
   ]
  },
  {
   "cell_type": "code",
   "execution_count": null,
   "id": "495be363-1750-48a3-adc8-69ad2d7d05cf",
   "metadata": {},
   "outputs": [],
   "source": [
    "nan_cols_list = nan_count_train.index.tolist()\n",
    "nan_cols_list"
   ]
  },
  {
   "cell_type": "code",
   "execution_count": null,
   "id": "b644181f-36a3-4392-984c-0d61bbbf13a0",
   "metadata": {},
   "outputs": [],
   "source": [
    "# fill tmp columns' nans with the value of the column nmme-tmp2m-34w__cfsv2 as it has the best rmse (from a calculation done further below)\n",
    "# for prate columns just use the mean of the column\n",
    "\n",
    "tmp_columns = ['nmme0-tmp2m-34w__ccsm30', 'nmme-tmp2m-56w__ccsm3', 'nmme-tmp2m-34w__ccsm3', 'ccsm30']\n",
    "prate_columns = ['nmme-prate-34w__ccsm3','nmme0-prate-56w__ccsm30','nmme0-prate-34w__ccsm30','nmme-prate-56w__ccsm3']\n",
    "\n",
    "for column in train_df.columns:\n",
    "    if column in tmp_columns:\n",
    "        train_df[column] = train_df[column].fillna(value=train_df['nmme-tmp2m-34w__cfsv2'])\n",
    "    if column in prate_columns:\n",
    "        # calculate the mean value of the column\n",
    "        mean_value = train_df[column].mean()\n",
    "\n",
    "        # fill missing values with the mean\n",
    "        train_df[column].fillna(value=mean_value, inplace=True)"
   ]
  },
  {
   "cell_type": "code",
   "execution_count": null,
   "id": "5d18fa01-7555-45ab-9cc1-a9f65f6d10cd",
   "metadata": {},
   "outputs": [],
   "source": [
    "# Let's check that there are no nans left\n",
    "\n",
    "# Check for NaN values in the dataframe\n",
    "nan_cols_train = train_df.isna().any()\n",
    "\n",
    "# Count the number of NaN values in each column that contains NaN values\n",
    "nan_count_train = train_df.isna().sum()[nan_cols_train]\n",
    "\n",
    "print(nan_count_train)"
   ]
  },
  {
   "cell_type": "code",
   "execution_count": null,
   "id": "258c8db9-3395-43d3-948f-7e132f0929d6",
   "metadata": {},
   "outputs": [],
   "source": [
    "# renaming some more frequently used columns \n",
    "\n",
    "train_df = train_df.rename(columns={'climateregions__climateregion': 'region', 'contest-tmp2m-14d__tmp2m': 'target_tmp'})\n",
    "test_df = test_df.rename(columns={'climateregions__climateregion': 'region', 'contest-tmp2m-14d__tmp2m': 'target_tmp'})"
   ]
  },
  {
   "cell_type": "markdown",
   "id": "c0e4c264-cac5-4396-b625-4c3c55315dba",
   "metadata": {},
   "source": [
    "#### Merge lon and lat\n",
    "\n",
    "If we merge the lon and lat columns we get each unique region"
   ]
  },
  {
   "cell_type": "code",
   "execution_count": null,
   "id": "e130bd70-9250-4802-9327-87cbc358caee",
   "metadata": {},
   "outputs": [],
   "source": [
    "# clean up lon and lat based on Kaggle notebook: https://www.kaggle.com/code/flaviafelicioni/wids-2023-different-locations-train-test-solved#Solution\n",
    "\n",
    "scale = 14\n",
    "\n",
    "train_df.loc[:,'lat']=round(train_df.lat,scale)\n",
    "train_df.loc[:,'lon']=round(train_df.lon,scale)\n",
    "\n",
    "test_df.loc[:,'lat']=round(test_df.lat,scale)\n",
    "test_df.loc[:,'lon']=round(test_df.lon,scale)"
   ]
  },
  {
   "cell_type": "code",
   "execution_count": null,
   "id": "02bbf54d-9fe8-44b8-ab47-17aa44e5cdde",
   "metadata": {},
   "outputs": [],
   "source": [
    "# Select the columns to merge\n",
    "columns_to_merge = ['lon', 'lat']\n",
    "\n",
    "# create a new column with the merged values\n",
    "train_df['lon_lat'] = train_df[columns_to_merge]\\\n",
    "    .apply(lambda x: '_'.join(x.astype(str)), axis=1)\n",
    "\n",
    "test_df['lon_lat'] = test_df[columns_to_merge]\\\n",
    "    .apply(lambda x: '_'.join(x.astype(str)), axis=1)"
   ]
  },
  {
   "cell_type": "code",
   "execution_count": null,
   "id": "f51edebb-dcbf-4f7c-b963-c9fefcecadc0",
   "metadata": {},
   "outputs": [],
   "source": [
    "# check how many unique values each column has\n",
    "\n",
    "unique_counts_df = pd.DataFrame(train_df.apply(lambda x: x.nunique()), columns=['Unique Values']).T\n",
    "unique_counts_df.head()"
   ]
  },
  {
   "cell_type": "markdown",
   "id": "6a62f616-9211-4604-b988-27518e29194e",
   "metadata": {},
   "source": [
    "#### Calculate moving averages for daily features"
   ]
  },
  {
   "cell_type": "code",
   "execution_count": null,
   "id": "0b5bf8a8-8590-4b77-a04d-bb7f55cea3e0",
   "metadata": {},
   "outputs": [],
   "source": [
    "# # change daily values to a moving average calculated the same way as target_tmp (avg of min and max value over 14 days)\n",
    "\n",
    "# daily_measures_list = train_df.filter(regex='mjo1d__amplitude|^sst|^wind').columns.tolist()\n",
    "\n",
    "\n",
    "# def create_moving_averages(df):\n",
    "#     for column in df.columns:\n",
    "#         if column in daily_measures_list:\n",
    "#             new_col_name = column+'_avg_14d'\n",
    "#             # calculate the rolling average for 14 days, NOTE: how to do min max instead?\n",
    "#             df[new_col_name] = df.groupby('region')[column].transform(lambda x: x.rolling(14, 1).mean())\n",
    "#     df.drop(daily_measures_list, axis=1, inplace=True)        \n",
    "\n",
    "# create_moving_averages(train_df)\n",
    "# create_moving_averages(test_df)\n"
   ]
  },
  {
   "cell_type": "code",
   "execution_count": null,
   "id": "160b6aa0-8e48-4831-8d83-b4315465f6b5",
   "metadata": {},
   "outputs": [],
   "source": [
    "# train_df['lon_lat'].unique().tolist()[0:15]"
   ]
  },
  {
   "cell_type": "code",
   "execution_count": null,
   "id": "372ae65f-b444-4223-b2a1-238d971a463e",
   "metadata": {},
   "outputs": [],
   "source": [
    "# example_df = train_df[(train_df['startdate']< '2015-10-01') & ((train_df['lon_lat']== '0.83333333333333_0.0') | (train_df['lon_lat']== '0.83333333333333_0.04545454545455'))]\n",
    "\n",
    "# example_df = example_df[['startdate','lon_lat', 'wind-vwnd-925-2010-11_avg_14d']]\n",
    "\n",
    "# example_df.tail(50)"
   ]
  },
  {
   "cell_type": "code",
   "execution_count": null,
   "id": "6c98136f-52c1-4e5c-9990-7edffb666381",
   "metadata": {},
   "outputs": [],
   "source": [
    "# forecasts_34_56_list = train_df.filter(regex='34|56').columns.tolist()\n",
    "# forecasts_34_56_list"
   ]
  },
  {
   "cell_type": "markdown",
   "id": "97d9ecee-aeff-4b00-894b-99db9b7ed8a8",
   "metadata": {},
   "source": [
    "### EDA\n",
    "\n",
    "The following graphs will be created to get a better understanding of the data:\n",
    "\n",
    "* The average target_tmp for each region over time\n",
    "* The variance in temperature per region on a specific date\n",
    "* Each temperature forecast vs target temperature"
   ]
  },
  {
   "cell_type": "code",
   "execution_count": null,
   "id": "d5c8c2fa-6112-4931-bd5c-9be16bb907d7",
   "metadata": {},
   "outputs": [],
   "source": [
    "# Group the dataframe by the 'region' and 'startdate' columns\n",
    "avg_tmp_df = train_df.groupby(['region', 'startdate'])['target_tmp'].mean().reset_index()\n",
    "\n",
    "# Rename the columns\n",
    "avg_tmp_df = avg_tmp_df.rename(columns={'target_tmp':'avg_tmp'})\n",
    "\n",
    "avg_tmp_df.info()"
   ]
  },
  {
   "cell_type": "code",
   "execution_count": null,
   "id": "aea6bca9-226c-4f6f-b0a1-c95f5bc2fcb3",
   "metadata": {},
   "outputs": [],
   "source": [
    "# prepare the figure\n",
    "fig, axs = plt.subplots(nrows=5, ncols=3, figsize=(15, 10))\n",
    "\n",
    "# set the regions\n",
    "regions = avg_tmp_df['region'].unique()\n",
    "\n",
    "# iterate through the regions\n",
    "for i, region in enumerate(regions):\n",
    "    ax = axs[i//3, i%3]\n",
    "    data = avg_tmp_df[avg_tmp_df['region'] == region]\n",
    "    sns.lineplot(ax = ax, x='startdate', y='avg_tmp', data=data)\n",
    "    ax.set_title(region)\n",
    "    ax.xaxis.set_major_locator(md.WeekdayLocator(byweekday = 1, interval = 12))\n",
    "    ax.xaxis.set_major_formatter(md.DateFormatter('%Y-%m-%d'))\n",
    "    plt.setp(ax.xaxis.get_majorticklabels(), rotation = 45)\n",
    "    ax.xaxis.set_minor_locator(md.DayLocator(interval = 1))\n",
    "    ax.tick_params(axis = 'x', which = 'major', length = 10)\n",
    "    ax.tick_params(axis = 'x', which = 'minor', length = 5)\n",
    "    plt.xlabel('Date')\n",
    "    plt.ylabel('Temperature')\n",
    "\n",
    "# adjust the layout\n",
    "fig.tight_layout()\n",
    "\n",
    "# display the plot\n",
    "plt.show()"
   ]
  },
  {
   "cell_type": "markdown",
   "id": "a6fe0257-8a5d-4b65-a4e0-e48ffdeff631",
   "metadata": {},
   "source": [
    "#### Checking how much the temperature varies within each location of a region"
   ]
  },
  {
   "cell_type": "code",
   "execution_count": null,
   "id": "5882650d-9277-4258-a30e-51a638c40949",
   "metadata": {},
   "outputs": [],
   "source": [
    "# group the dataframe by the 'region' column\n",
    "grouped = train_df.groupby('region')\n",
    "\n",
    "# calculate the mean and standard deviation for the 'average_tmp' column for each group (region)\n",
    "mean_temp = grouped['target_tmp'].mean()\n",
    "std_temp = grouped['target_tmp'].std()\n",
    "\n",
    "# print the results\n",
    "print(\"Mean Temperature by Region: \\n\", mean_temp)\n",
    "print(\"Standard deviation Temperature by Region: \\n\", std_temp)"
   ]
  },
  {
   "cell_type": "code",
   "execution_count": null,
   "id": "9d22cce8-f1eb-4c43-8352-4efc54a8c8c1",
   "metadata": {},
   "outputs": [],
   "source": [
    "agg_temp = train_df.groupby(['region', 'startdate'])['target_tmp']\\\n",
    "                .agg(Mean='mean', Std='std', Count='count')\\\n",
    "                .sort_values('Std', ascending = False).reset_index()\n",
    "\n",
    "agg_temp.head(10)"
   ]
  },
  {
   "cell_type": "code",
   "execution_count": null,
   "id": "1a820beb-d01f-4a95-a233-aff015c1b96d",
   "metadata": {},
   "outputs": [],
   "source": [
    "# for the 01/01/2015, how much did temperature differe per region?\n",
    "\n",
    "specific_date_df = train_df[train_df['startdate'] == '2015-01-01']\n",
    "\n",
    "fig, ax = plt.subplots(figsize=(10, 8))\n",
    "\n",
    "sns.boxplot(x=\"region\", y=\"target_tmp\", data=specific_date_df, ax=ax)\n",
    "plt.show()"
   ]
  },
  {
   "cell_type": "markdown",
   "id": "a606f334-706a-4f1c-8c3b-a509423cec07",
   "metadata": {},
   "source": [
    "#### Display each temperature forecasts together with the target_tmp, to see how well the forecasts do"
   ]
  },
  {
   "cell_type": "code",
   "execution_count": null,
   "id": "28b449ca-0261-4071-ba12-d7b8e36f41c9",
   "metadata": {},
   "outputs": [],
   "source": [
    "# subset df to only contain nmme columns, startdate, lon_lat and target for visualisation\n",
    "df_filtered = train_df.filter(regex='^nmme-tmp|^nmme0-tmp|^target|^startdate|^lon_lat')\n",
    "df_filtered.head()"
   ]
  },
  {
   "cell_type": "code",
   "execution_count": null,
   "id": "94a01f6c-89e3-45b9-b34f-7283f5af4c1e",
   "metadata": {},
   "outputs": [],
   "source": [
    "# choose a small date range and a specific region\n",
    "\n",
    "df_example = df_filtered[(df_filtered['startdate']< '2015-10-01') & (df_filtered['lon_lat']== '0.83333333333333_0.0')]\n",
    "del df_example['lon_lat']\n",
    "df_example.head()\n"
   ]
  },
  {
   "cell_type": "code",
   "execution_count": null,
   "id": "480ca820-9886-47fc-a171-460774219601",
   "metadata": {},
   "outputs": [],
   "source": [
    "# # plot the forecasts vs target_tmp\n",
    "\n",
    "# df_example.set_index('startdate', inplace=True)\n",
    "\n",
    "\n",
    "# # Loop through the temperature forecasting columns\n",
    "# for column in df_example.columns:\n",
    "#     if column != 'target_tmp':\n",
    "#         # Create a line plot of the current temperature column and target_tmp\n",
    "#         df_example[[column, 'target_tmp']].plot(kind='line')\n",
    "\n",
    "#         # Add a title and labels for the x and y axis\n",
    "#         plt.title(f'Temperature comparison ({column} vs target_tmp)')\n",
    "#         plt.xlabel('Date')\n",
    "#         plt.ylabel('Temperature (°C)')\n",
    "\n",
    "#         # Show the plot\n",
    "#         plt.show()"
   ]
  },
  {
   "cell_type": "markdown",
   "id": "210d128a-c44d-4380-ae80-e19ccfd165ba",
   "metadata": {},
   "source": [
    "### calculate rmse for forcasts\n",
    "\n",
    "To check how well the various forecasts do, let's calculate their rmse "
   ]
  },
  {
   "cell_type": "code",
   "execution_count": null,
   "id": "60109418-4f83-41aa-b759-c807fde1a4de",
   "metadata": {},
   "outputs": [],
   "source": [
    "df_filtered = train_df.filter(regex='^nmme-tmp|^nmme0-tmp|nmme0$|^target|^cancm30|^cancm40|^ccsm30|^ccsm40|^cfsv20')\n",
    "\n",
    "actual = df_filtered['target_tmp']\n",
    "\n",
    "for column in df_filtered.columns:\n",
    "    if column != 'target_tmp':\n",
    "        temp_df = df_filtered[column]\n",
    "        mean_value= df_filtered[column].mean()\n",
    "        temp_df.fillna(value=mean_value, inplace=True)\n",
    "        predicted = temp_df\n",
    "        mse = sklearn.metrics.mean_squared_error(actual, predicted)\n",
    "        rmse = math.sqrt(mse)\n",
    "        print(column,': ','\\n', rmse, '\\n')"
   ]
  },
  {
   "cell_type": "code",
   "execution_count": null,
   "id": "081e0878-5709-41d7-a980-49c923ddf003",
   "metadata": {},
   "outputs": [],
   "source": [
    "# create a df which does not contain the forecasts and certain columns which don't seem to be useful\n",
    "# when comparing train vs test distributions\n",
    "\n",
    "forecast_models_col_list = train_df.filter(regex='^nmme|^cancm|^ccsm|cfsv20|nasa0|gfdlflora0|gfdlflorb0|gfdl0|^icec')\\\n",
    "                         .columns.tolist()\n",
    "\n",
    "#leave only one model in the data (the one with the lowest rmse from above) and the most relevant prate model\n",
    "forecast_models_col_list.remove('nmme0mean')\n",
    "forecast_models_col_list.remove('nmme0-prate-56w__cancm30')\n",
    "forecast_models_col_list\n",
    "\n",
    "train_df = train_df.drop(forecast_models_col_list, axis=1)\n",
    "test_df = test_df.drop(forecast_models_col_list, axis=1)\n"
   ]
  },
  {
   "cell_type": "markdown",
   "id": "5d714631-7ab2-41b3-b40a-82af2a0fe63a",
   "metadata": {},
   "source": [
    "### Creating dataframes for the same type of columns to implement correlation matrices"
   ]
  },
  {
   "cell_type": "code",
   "execution_count": null,
   "id": "a33d65cc-c2af-4262-a62e-0ed1b9b30989",
   "metadata": {},
   "outputs": [],
   "source": [
    "def filter_df(df, string):\n",
    "    filtered_df = df.filter(regex=f'^{string}|^target_tmp')\n",
    "    return filtered_df\n"
   ]
  },
  {
   "cell_type": "code",
   "execution_count": null,
   "id": "7b1acc7d-90a0-44be-a596-efdb55a1110c",
   "metadata": {},
   "outputs": [],
   "source": [
    "icec_df = filter_df(train_df, \"icec\")\n",
    "icec_df.head()"
   ]
  },
  {
   "cell_type": "code",
   "execution_count": null,
   "id": "bcb6fc1f-4ba8-410d-ba32-3a32bf82ef4a",
   "metadata": {},
   "outputs": [],
   "source": [
    "# nmme_prate_df = filter_df(train_df, \"nmme-prate\")\n",
    "# nmme0_prate_df = filter_df(train_df, \"nmme0-prate\")\n",
    "# nmme_tmp_df = filter_df(train_df, \"nmme-tmp\")\n",
    "# nmme0_tmp_df = filter_df(train_df, \"nmme0-tmp\")\n",
    "# sst_df = filter_df(train_df, \"sst\")\n",
    "# wind_hgt_10_df = filter_df(train_df, \"wind-hgt-10-\")\n",
    "# wind_hgt_850_df = filter_df(train_df, \"wind-hgt-850-\")\n",
    "# wind_uwnd_250_df = filter_df(train_df, \"wind-uwnd-250\")\n",
    "# wind_vwnd_250_df = filter_df(train_df, \"wind-vwnd-250\")"
   ]
  },
  {
   "cell_type": "code",
   "execution_count": null,
   "id": "e580962f-0074-4231-b293-7c5b86fca40b",
   "metadata": {},
   "outputs": [],
   "source": [
    "def create_corr_matrix(df): \n",
    "\n",
    "    # Compute the correlation matrix\n",
    "    corr = df.corr()\n",
    "\n",
    "    # Set up the matplotlib figure\n",
    "    f, ax = plt.subplots(figsize=(11, 9))\n",
    "\n",
    "    # Generate a custom diverging colormap\n",
    "    cmap = sns.diverging_palette(10, 210, as_cmap=True)\n",
    "    \n",
    "    # Draw the heatmap with the mask and correct aspect ratio\n",
    "    sns.heatmap(corr,cmap=cmap, annot=True, vmin=-1, vmax=1, center=0)\n",
    "\n",
    "    plt.show()"
   ]
  },
  {
   "cell_type": "code",
   "execution_count": null,
   "id": "eb702e0a-fb87-487e-89fb-a8eed82da36b",
   "metadata": {},
   "outputs": [],
   "source": [
    "# create_corr_matrix(icec_df)"
   ]
  },
  {
   "cell_type": "code",
   "execution_count": null,
   "id": "b57df427-0454-4cdd-9b6e-70bbd7dce459",
   "metadata": {},
   "outputs": [],
   "source": [
    "# create_corr_matrix(nmme_prate_df)"
   ]
  },
  {
   "cell_type": "code",
   "execution_count": null,
   "id": "59c94e36-2a92-42c6-a34f-2cf07688836c",
   "metadata": {},
   "outputs": [],
   "source": [
    "# create_corr_matrix(nmme0_prate_df)"
   ]
  },
  {
   "cell_type": "code",
   "execution_count": null,
   "id": "487c7e84-a03a-44e8-847a-f30744d3eb92",
   "metadata": {},
   "outputs": [],
   "source": [
    "# create_corr_matrix(nmme_tmp_df)"
   ]
  },
  {
   "cell_type": "code",
   "execution_count": null,
   "id": "5a34d737-7a40-46a0-8035-6ceedefaf805",
   "metadata": {},
   "outputs": [],
   "source": [
    "# create_corr_matrix(nmme0_tmp_df)"
   ]
  },
  {
   "cell_type": "code",
   "execution_count": null,
   "id": "e7377a4b-760a-4de7-b5ee-bfcb74a0931d",
   "metadata": {},
   "outputs": [],
   "source": [
    "# create_corr_matrix(sst_df)"
   ]
  },
  {
   "cell_type": "code",
   "execution_count": null,
   "id": "ef12cb4d-f9d4-47e3-adc8-30d6780bc6cb",
   "metadata": {},
   "outputs": [],
   "source": [
    "# create_corr_matrix(wind_hgt_850_df)"
   ]
  },
  {
   "cell_type": "code",
   "execution_count": null,
   "id": "135449c2-dcf4-4fd4-bcbe-d63ec7e03dbe",
   "metadata": {},
   "outputs": [],
   "source": [
    "# create_corr_matrix(wind_uwnd_250_df)"
   ]
  },
  {
   "cell_type": "code",
   "execution_count": null,
   "id": "ef0b700d-f3b6-4ad6-9f5f-286b13c7dcf8",
   "metadata": {},
   "outputs": [],
   "source": [
    "# create_corr_matrix(wind_vwnd_250_df)"
   ]
  },
  {
   "cell_type": "markdown",
   "id": "5b5982b2-1a80-4217-833b-c9ad76ec3669",
   "metadata": {},
   "source": [
    "## XGBoost "
   ]
  },
  {
   "cell_type": "markdown",
   "id": "c95c38b3-7a82-49e9-8711-83d52d37da3a",
   "metadata": {},
   "source": [
    "#### Feature engineering\n",
    "\n",
    "* Create time features\n",
    "* Make them cyclical where necesarry"
   ]
  },
  {
   "cell_type": "code",
   "execution_count": null,
   "id": "38187cc2-e24d-4219-b11c-1af92b634259",
   "metadata": {},
   "outputs": [],
   "source": [
    "# Resource: https://colab.research.google.com/drive/10r73mOp1R7cORfeuP97V65a-rgwGyfWr?usp=sharing#scrollTo=p8piDWNxFq0H\n",
    "\n",
    "from sklearn.preprocessing import FunctionTransformer\n",
    "\n",
    "def sin_transformer(period):\n",
    "    return FunctionTransformer(lambda x: np.sin(x / period * 2 * np.pi))\n",
    "\n",
    "\n",
    "def cos_transformer(period):\n",
    "    return FunctionTransformer(lambda x: np.cos(x / period * 2 * np.pi))\n",
    "\n",
    "def encode_cyclical(df):\n",
    "    \n",
    "    # encode the day with a period of 365\n",
    "    df['day_sin'] = sin_transformer(365).fit_transform(df['startdate'].dt.day)\n",
    "    df['day_cos'] = cos_transformer(365).fit_transform(df['startdate'].dt.day)\n",
    "\n",
    "    # encode the week with a period of 52\n",
    "    df['week_sin'] = sin_transformer(52).fit_transform(df['startdate'].dt.isocalendar().week)\n",
    "    df['week_cos'] = cos_transformer(52).fit_transform(df['startdate'].dt.isocalendar().week)\n",
    "\n",
    "    # encode the month with a period of 12\n",
    "    df['month_sin'] = sin_transformer(12).fit_transform(df['startdate'].dt.month)\n",
    "    df['month_cos'] = cos_transformer(12).fit_transform(df['startdate'].dt.month)\n",
    "    \n",
    "    # year does not need encoding\n",
    "    df['year'] = df['startdate'].dt.year "
   ]
  },
  {
   "cell_type": "code",
   "execution_count": null,
   "id": "2fadfea3-36ea-4d74-8ae0-65e30edc9902",
   "metadata": {},
   "outputs": [],
   "source": [
    "encode_cyclical(train_df)\n",
    "encode_cyclical(test_df)\n",
    "train_df.head()"
   ]
  },
  {
   "cell_type": "markdown",
   "id": "05e98066-8745-4b64-9525-aa7b72b82fe1",
   "metadata": {},
   "source": [
    "### Encode categorical variables"
   ]
  },
  {
   "cell_type": "markdown",
   "id": "1e6c75b3-af35-4c8a-917b-b024d72f5238",
   "metadata": {},
   "source": [
    "#### One-hot-encoding"
   ]
  },
  {
   "cell_type": "code",
   "execution_count": null,
   "id": "559ee244-a63e-4181-91e5-806599d7090e",
   "metadata": {},
   "outputs": [],
   "source": [
    "# # encode categorical variables so that they can be used by the model\n",
    "\n",
    "# train_df_onehot = no_fc_df.copy()\n",
    "# train_df_onehot = pd.get_dummies(train_df_onehot, columns=['year', 'month', 'week','day', 'region', 'lon_lat'])\n",
    "\n",
    "# #drop columns we don't need anymore\n",
    "# train_df_onehot = train_df_onehot.drop(['lon', 'lat'], axis=1)\n",
    "\n",
    "# train_df_onehot.head()"
   ]
  },
  {
   "cell_type": "markdown",
   "id": "bb43dead-41cf-4f61-a622-6f344b735904",
   "metadata": {},
   "source": [
    "#### Target encoding"
   ]
  },
  {
   "cell_type": "code",
   "execution_count": null,
   "id": "d4bd0809-a80b-45ed-bb7b-cb4357c13c73",
   "metadata": {},
   "outputs": [],
   "source": [
    "# set up the encoder\n",
    "encoder = TargetEncoder(cols=['region', 'lon_lat'], smoothing = 10)\n",
    "\n",
    "# fit the encoder - finds the mean target value per category\n",
    "train_df_no_target = train_df.drop(['target_tmp'], axis=1)\n",
    "encoder.fit(train_df_no_target, train_df['target_tmp'])\n",
    "\n",
    "# transform data\n",
    "encoded_df_train = encoder.transform(train_df_no_target)\n",
    "encoded_df_test = encoder.transform(test_df)\n",
    "\n",
    "encoded_df_train.drop(['index', 'lat', 'lon'], axis=1, inplace=True)\n",
    "encoded_df_test.drop(['index','lat', 'lon'], axis=1, inplace=True)\n",
    "\n",
    "encoded_df_train = pd.concat([encoded_df_train,train_df['target_tmp']], axis=1)\n",
    "encoded_df_train.head()\n",
    "# encoded_df_test.head()"
   ]
  },
  {
   "cell_type": "markdown",
   "id": "0cb07fbc-ee4a-4cda-a0cb-8a6f5daa0d40",
   "metadata": {},
   "source": [
    "#### Perform PCA for dimensionality reduction"
   ]
  },
  {
   "cell_type": "code",
   "execution_count": null,
   "id": "9edf3991-bb99-4002-ac9f-008a495e3c96",
   "metadata": {},
   "outputs": [],
   "source": [
    "# startdate_df = encoded_df_train[['startdate', 'target_tmp']]\n",
    "# startdate_df.head()"
   ]
  },
  {
   "cell_type": "code",
   "execution_count": null,
   "id": "3fc84c45-fc7f-4923-81a7-d2986cfd6fdf",
   "metadata": {},
   "outputs": [],
   "source": [
    "# from sklearn.preprocessing import StandardScaler\n",
    "# from sklearn.decomposition import PCA\n",
    "# import numpy as np"
   ]
  },
  {
   "cell_type": "code",
   "execution_count": null,
   "id": "ce64d509-cff6-4f72-b980-a4dea44ac8cf",
   "metadata": {},
   "outputs": [],
   "source": [
    "# #define scaler\n",
    "# scaler = StandardScaler()\n",
    "\n",
    "# #create copy of DataFrame\n",
    "# scaled_df = encoded_df_train.copy()\n",
    "# # scaled_df = scaled_df.drop(['year', 'month', 'week', 'day', 'region', 'lon_lat', 'startdate', 'lon', 'lat', 'target_tmp'], axis=1)\n",
    "# scaled_df = scaled_df.drop(['startdate'], axis=1)\n",
    "# pca_columns = list(scaled_df.columns.values)\n",
    "\n",
    "# #created scaled version of DataFrame\n",
    "# scaled_df = pd.DataFrame(scaler.fit_transform(scaled_df), columns=scaled_df.columns)\n",
    "# scaled_df.head()"
   ]
  },
  {
   "cell_type": "code",
   "execution_count": null,
   "id": "06f32bc1-2cac-4f8a-92a7-c5314b61db9b",
   "metadata": {},
   "outputs": [],
   "source": [
    "# scaled_df.shape"
   ]
  },
  {
   "cell_type": "code",
   "execution_count": null,
   "id": "798c5645-7270-45e8-b958-643b22695275",
   "metadata": {},
   "outputs": [],
   "source": [
    "# #define PCA model to use\n",
    "# pca = PCA(n_components=50)\n",
    "\n",
    "# #fit PCA model to data\n",
    "# pca_fit = pca.fit(scaled_df)\n"
   ]
  },
  {
   "cell_type": "code",
   "execution_count": null,
   "id": "2bc9a002-af3a-4143-83ff-bff35f847b8e",
   "metadata": {},
   "outputs": [],
   "source": [
    "# pc_values = np.arange(pca.n_components_) + 1\n",
    "# plt.plot(pc_values, pca.explained_variance_ratio_, 'o-', linewidth=2, color='blue')\n",
    "# plt.title('Scree Plot')\n",
    "# plt.xlabel('Principal Component')\n",
    "# plt.ylabel('Variance Explained')\n",
    "# plt.show() "
   ]
  },
  {
   "cell_type": "code",
   "execution_count": null,
   "id": "e697380b-594f-4354-bad5-fd5dd7ea5be5",
   "metadata": {},
   "outputs": [],
   "source": [
    "# plt.plot(np.cumsum(pca_fit.explained_variance_ratio_))\n",
    "# plt.grid()\n",
    "# plt.xlabel('Number of Principal Components')\n",
    "# plt.ylabel('Explained Variance')\n",
    "# sns.despine();"
   ]
  },
  {
   "cell_type": "code",
   "execution_count": null,
   "id": "35e975a3-ff75-4e98-a843-a19b3456ca56",
   "metadata": {},
   "outputs": [],
   "source": [
    "# # transform the original dataset to the reduced dataset\n",
    "# reduced_df = pca_fit.transform(scaled_df)\n",
    "# reduced_df = pd.DataFrame(reduced_df)\n",
    "# reduced_df.shape"
   ]
  },
  {
   "cell_type": "code",
   "execution_count": null,
   "id": "3ff041e7-8b21-490a-9ef1-e9fd05962608",
   "metadata": {},
   "outputs": [],
   "source": [
    "# # merge the reduced dataframe with the startdate\n",
    "\n",
    "# train_df_onehot_reduced = encoded_df_train.drop(pca_columns, axis=1)\n",
    "# train_df_onehot_reduced.head()\n",
    "# train_df_onehot_reduced.shape"
   ]
  },
  {
   "cell_type": "code",
   "execution_count": null,
   "id": "781d50e1-1f28-470f-b832-d295de897506",
   "metadata": {},
   "outputs": [],
   "source": [
    "# merged_df = pd.concat([reduced_df, startdate_df], axis=1)\n",
    "# merged_df.shape"
   ]
  },
  {
   "cell_type": "code",
   "execution_count": null,
   "id": "b3907e56-7e24-46da-95cc-6bc155d1be5b",
   "metadata": {},
   "outputs": [],
   "source": [
    "train = encoded_df_train.loc[encoded_df_train['startdate'] < '2016-07-01' ]\n",
    "validation = encoded_df_train.loc[encoded_df_train['startdate'] >= '2016-07-01' ]"
   ]
  },
  {
   "cell_type": "code",
   "execution_count": null,
   "id": "b6f4e740-622a-4eb6-876b-04459641e693",
   "metadata": {},
   "outputs": [],
   "source": [
    "train = train.drop(['startdate'], axis=1)\n",
    "len(train)"
   ]
  },
  {
   "cell_type": "code",
   "execution_count": null,
   "id": "1d96915a-9a1b-4e78-847e-8857b96cc717",
   "metadata": {},
   "outputs": [],
   "source": [
    "validation = validation.drop(['startdate'], axis=1)\n",
    "len(validation)"
   ]
  },
  {
   "cell_type": "code",
   "execution_count": null,
   "id": "c5381afb-2dd8-46c1-a8bb-c83ecfee8be5",
   "metadata": {},
   "outputs": [],
   "source": [
    "no_target = train.drop(['target_tmp'], axis=1)\n",
    "no_target.head()"
   ]
  },
  {
   "cell_type": "code",
   "execution_count": null,
   "id": "e34f8805-e440-4cc9-bddc-1e56967d67cc",
   "metadata": {},
   "outputs": [],
   "source": [
    "#Get the list of all column names from headers\n",
    "features = list(no_target.columns.values)\n",
    "target = 'target_tmp'\n"
   ]
  },
  {
   "cell_type": "code",
   "execution_count": null,
   "id": "9c8f1789-cf9d-4a84-9237-8378a5f927f7",
   "metadata": {},
   "outputs": [],
   "source": [
    "X_train = train[features]\n",
    "y_train = train[target]\n",
    "\n",
    "X_val = validation[features]\n",
    "y_val = validation[target]"
   ]
  },
  {
   "cell_type": "code",
   "execution_count": null,
   "id": "9b83b19b-1477-477a-8dd3-93c9c92a2990",
   "metadata": {},
   "outputs": [],
   "source": [
    "# data_drift_list = encoded_df_train.filter(regex='^mei|^sst|^wind|contest-pevpr-sfc-gauss-14d__pevpr')\\\n",
    "#                          .columns.tolist()\n",
    "\n",
    "# X_train_2 = X_train[data_drift_list]\n",
    "# X_val_2 = X_val[data_drift_list]"
   ]
  },
  {
   "cell_type": "code",
   "execution_count": null,
   "id": "2f82a8ff-0ee8-4a18-b67f-0f9514355b51",
   "metadata": {},
   "outputs": [],
   "source": [
    "# data_drift_list"
   ]
  },
  {
   "cell_type": "code",
   "execution_count": null,
   "id": "8c8789ae-b2fa-4f65-bb47-6a8b4f62353e",
   "metadata": {},
   "outputs": [],
   "source": [
    "# from sklearn.model_selection import cross_val_score\n",
    "# from sklearn.model_selection import RepeatedKFold\n",
    "# from numpy import absolute"
   ]
  },
  {
   "cell_type": "code",
   "execution_count": null,
   "id": "3d5fca7e-8928-42e3-8ef8-28c4b0c69d28",
   "metadata": {},
   "outputs": [],
   "source": [
    "# X = train_df_onehot[features]\n",
    "# y = train_df_onehot[target]"
   ]
  },
  {
   "cell_type": "code",
   "execution_count": null,
   "id": "6efb747e-2dd2-4152-9e3b-6c2ca77c5a52",
   "metadata": {},
   "outputs": [],
   "source": [
    "# # why did it have an extra index column?\n",
    "\n",
    "# X.drop(columns=['index'], inplace=True)\n",
    "# X.head()"
   ]
  },
  {
   "cell_type": "code",
   "execution_count": null,
   "id": "1cbfea5d-5e75-4c88-b2de-da776c894ff6",
   "metadata": {},
   "outputs": [],
   "source": [
    "# y.head()"
   ]
  },
  {
   "cell_type": "code",
   "execution_count": null,
   "id": "5dc661d9-1444-4960-9547-6af201afcf8f",
   "metadata": {},
   "outputs": [],
   "source": [
    "# model = xgb.XGBRegressor(n_estimators=100, learning_rate = 0.1, max_depth = 5, gamma = 1, subsample = 0.5)\n",
    "# # define model evaluation method\n",
    "# cv = RepeatedKFold(n_splits=2, n_repeats=1, random_state=1)\n",
    "# # evaluate model\n",
    "# scores = cross_val_score(model, X, y, scoring='neg_root_mean_squared_error', cv=cv, n_jobs=-1, verbose = 1)\n",
    "# # force scores to be positive\n",
    "# scores = absolute(scores)\n",
    "# print('RMSE: %.3f (%.3f)' % (scores.mean(), scores.std()) )"
   ]
  },
  {
   "cell_type": "code",
   "execution_count": null,
   "id": "e2866665-2bfc-4ab8-98fe-6da34f2a6121",
   "metadata": {},
   "outputs": [],
   "source": [
    "# # BEST model so far, with rmse of 0.90139 after 1000 rounds (n_estimators = 1000), next try with 10000)\n",
    "\n",
    "# reg = xgb.XGBRegressor(n_estimators=1000, early_stopping_rounds = 30, learning_rate = 0.02, max_depth = 5, gamma = 1, subsample = 0.5) \n",
    "# reg.fit(X_train, y_train, eval_set = [(X_train, y_train), (X_val, y_val)], verbose = True)"
   ]
  },
  {
   "cell_type": "code",
   "execution_count": null,
   "id": "95bf7410-94ac-4e27-9ba9-9612a6468762",
   "metadata": {},
   "outputs": [],
   "source": [
    "# Try next\n",
    "\n",
    "# reg = xgb.XGBRegressor(n_estimators=1000, early_stopping_rounds = 30, learning_rate = 0.02, max_depth = 5, gamma = 1) \n",
    "# reg.fit(X_train, y_train, eval_set = [(X_train, y_train), (X_val, y_val)], verbose = True)"
   ]
  },
  {
   "cell_type": "code",
   "execution_count": null,
   "id": "cdbb7eea-09ed-4eb6-a25a-3dbf949abab4",
   "metadata": {},
   "outputs": [],
   "source": [
    "# # average rmse: 0.95\n",
    "\n",
    "# from datetime import datetime, timedelta\n",
    "\n",
    "# exclude_cols = ['startdate']\n",
    "# features = [c for c in encoded_df_train.columns if ((c != target) & (c not in exclude_cols))]\n",
    "# target = 'target_tmp'\n",
    "\n",
    "# N_FOLDS = 5\n",
    "\n",
    "# for fold in range(N_FOLDS):\n",
    "#     training_date = encoded_df_train['startdate'].max() - timedelta(14) * (N_FOLDS-fold)\n",
    "#     valid_date = training_date + timedelta(14)\n",
    "#     print(f\"\\nFold {fold}: \\ntraining data from {encoded_df_train['startdate'].min()} to {training_date}\\nvalidation data from {training_date + timedelta(1)} to {valid_date}\")\n",
    "#     train = encoded_df_train[encoded_df_train['startdate'] <= training_date]\n",
    "#     val  = encoded_df_train[(encoded_df_train['startdate'] > training_date) & (encoded_df_train['startdate'] <= valid_date) ]\n",
    "    \n",
    "#     X_train = train[features]\n",
    "#     y_train = train[target]\n",
    "\n",
    "#     X_val = val[features]\n",
    "#     y_val = val[target]\n",
    "    \n",
    "#     reg = xgb.XGBRegressor(n_estimators=1000, learning_rate = 0.05, max_depth = 8, gamma = 1, early_stopping_rounds = 30, seed=30) \n",
    "#     reg.fit(X_train, y_train, eval_set = [(X_train, y_train), (X_val, y_val)], verbose = 1)\n"
   ]
  },
  {
   "cell_type": "code",
   "execution_count": null,
   "id": "8566d70b-8613-41e5-893a-219253d74638",
   "metadata": {},
   "outputs": [],
   "source": [
    "# exclude_cols = ['startdate']\n",
    "# features = [c for c in encoded_df_train.columns if ((c != target) & (c not in exclude_cols))]\n",
    "# target = 'target_tmp'\n",
    "\n",
    "# X_train = encoded_df_train[features]\n",
    "# y_train = encoded_df_train[target]\n",
    "\n",
    "# model = xgb.XGBRegressor(n_estimators=2000, learning_rate = 0.05, max_depth = 6, gamma = 1, seed=30) \n",
    "# model.fit(X_train, y_train)\n"
   ]
  },
  {
   "cell_type": "code",
   "execution_count": null,
   "id": "0cfd028e-f1e3-43da-b39c-8112a6950a87",
   "metadata": {},
   "outputs": [],
   "source": [
    "# with n_estimators=1000, learning_rate = 0.1, max_depth = 6, gamma = 1, RMSE = 0.97 (forgot to put seed with this)\n",
    "\n",
    "# training the model\n",
    "# model = xgb.XGBRegressor(n_estimators=500, learning_rate = 0.08, max_depth = 6, seed=30, early_stopping_rounds = 100, gamma=1) \n",
    "# model.fit(X_train, y_train, eval_set = [(X_train, y_train), (X_val, y_val)], verbose = True)\n"
   ]
  },
  {
   "cell_type": "code",
   "execution_count": null,
   "id": "2d7abbdc-e33b-4133-b523-b830ce402bfe",
   "metadata": {},
   "outputs": [],
   "source": [
    "# model_2 = xgb.XGBRegressor(n_estimators=100, learning_rate = 0.1, max_depth = 6, seed=30, early_stopping_rounds = 100, gamma=1) \n",
    "# model_2.fit(X_train_2, y_train, eval_set = [(X_train_2, y_train), (X_val_2, y_val)], verbose = True)"
   ]
  },
  {
   "cell_type": "code",
   "execution_count": null,
   "id": "319405cd-a176-4785-91f1-019f2b7eaa5c",
   "metadata": {},
   "outputs": [],
   "source": [
    "# from xgboost import plot_importance\n",
    "\n",
    "# # plot feature importance\n",
    "# plot_importance(model, max_num_features = 30)\n",
    "# plt.show()"
   ]
  },
  {
   "cell_type": "code",
   "execution_count": null,
   "id": "6a4c276b-0867-4250-a7a4-f9b9c85facb5",
   "metadata": {},
   "outputs": [],
   "source": [
    "# # from xgboost import plot_importance\n",
    "\n",
    "# # plot feature importance\n",
    "# plot_importance(model_2, max_num_features = 30)\n",
    "# plt.show()"
   ]
  },
  {
   "cell_type": "code",
   "execution_count": null,
   "id": "8c39108d-446a-4e9e-94d3-3eb2bfc695a5",
   "metadata": {},
   "outputs": [],
   "source": [
    "# fig, ax = plt.subplots()\n",
    "# sns.kdeplot(data=train_df['contest-pevpr-sfc-gauss-14d__pevpr'],  color='blue', fill=True, ax=ax)\n",
    "# sns.kdeplot(data=test_df['contest-pevpr-sfc-gauss-14d__pevpr'], color='orange', fill=True, ax=ax)\n",
    "# plt.show()"
   ]
  },
  {
   "cell_type": "code",
   "execution_count": null,
   "id": "f69c2edf-960d-4541-80f2-b82452f154a3",
   "metadata": {},
   "outputs": [],
   "source": [
    "# # loading the sample submission file\n",
    "# submission = pd.read_csv('sample_solution.csv')\n",
    "# submission.head()"
   ]
  },
  {
   "cell_type": "code",
   "execution_count": null,
   "id": "16dae70c-7017-4d1a-a39b-a597a57f3fd0",
   "metadata": {},
   "outputs": [],
   "source": [
    "# # #making predictions and replacing the values of the sample file\n",
    "# target_variable = 'contest-tmp2m-14d__tmp2m'\n",
    "# submission[target_variable] = model.predict(encoded_df_test[features])"
   ]
  },
  {
   "cell_type": "code",
   "execution_count": null,
   "id": "2bf32bd7-159f-44df-bf0c-d998bd9d1505",
   "metadata": {},
   "outputs": [],
   "source": [
    "# #making predictions and replacing the values of the sample file\n",
    "# # target_variable = 'contest-tmp2m-14d__tmp2m'\n",
    "# submission['model_2'] = model_2.predict(encoded_df_test[data_drift_list])"
   ]
  },
  {
   "cell_type": "code",
   "execution_count": null,
   "id": "cc0775f8-9390-44e4-b3d1-75e96513b485",
   "metadata": {},
   "outputs": [],
   "source": [
    "# submission[target_variable]= submission['model_1'] * 0.9 + submission['model_2'] * 0.1"
   ]
  },
  {
   "cell_type": "code",
   "execution_count": null,
   "id": "cb28e1ec-fa62-499d-b4ee-11e610391875",
   "metadata": {},
   "outputs": [],
   "source": [
    "# submission.drop(['model_1', 'model_2'], axis=1, inplace = True)"
   ]
  },
  {
   "cell_type": "code",
   "execution_count": null,
   "id": "45e8f198-3324-4ad1-9701-0e48c3b4e8bc",
   "metadata": {},
   "outputs": [],
   "source": [
    "# submission.tail(20)"
   ]
  },
  {
   "cell_type": "code",
   "execution_count": null,
   "id": "5fdb23c7-1bf9-4173-b29c-37942f75b6db",
   "metadata": {},
   "outputs": [],
   "source": [
    "# #save the submission file\n",
    "# submission.to_csv('submission.csv', index = False) "
   ]
  },
  {
   "cell_type": "code",
   "execution_count": null,
   "id": "54854da3-7ee0-4494-99f7-b3ef66ad3bdc",
   "metadata": {},
   "outputs": [],
   "source": []
  },
  {
   "cell_type": "markdown",
   "id": "532e4224-b544-42c2-bf19-0c21b5a8671b",
   "metadata": {},
   "source": [
    "### Catboost"
   ]
  },
  {
   "cell_type": "code",
   "execution_count": null,
   "id": "13f974d2-b479-4856-ad7a-f1d096ce4d1b",
   "metadata": {},
   "outputs": [],
   "source": [
    "# import catboost\n",
    "# print(catboost.__version__)"
   ]
  },
  {
   "cell_type": "code",
   "execution_count": null,
   "id": "a84eee31-c25a-4fc0-9fb7-d46b135fafa0",
   "metadata": {},
   "outputs": [],
   "source": [
    "# from catboost import CatBoostRegressor, Pool"
   ]
  },
  {
   "cell_type": "code",
   "execution_count": null,
   "id": "5c36c4b1-a981-4ca2-bc09-768841478526",
   "metadata": {},
   "outputs": [],
   "source": [
    "# cb = CatBoostRegressor(n_estimators=500, learning_rate = 0.1, max_depth = 6, early_stopping_rounds = 100, loss_function='RMSE', verbose = True)\n",
    "\n",
    "# pool_train = Pool(X_train, y_train, cat_features = ['region', 'lon_lat'])\n",
    "\n",
    "# pool_val = Pool(X_val, cat_features = ['region', 'lon_lat'])\n",
    "\n",
    "# pool_test = Pool(test_df, cat_features = ['region', 'lon_lat'])\n",
    "\n",
    "# cb.fit(pool_train, eval_set = [(X_train, y_train), (X_val, y_val)])\n",
    "# y_pred = cb.predict(pool_val)\n",
    "\n",
    "# model.fit(X_train, y_train, eval_set = [(X_train, y_train), (X_val, y_val)])\n"
   ]
  },
  {
   "cell_type": "code",
   "execution_count": null,
   "id": "a730481b-fc88-4783-ab49-47900f4338b6",
   "metadata": {},
   "outputs": [],
   "source": [
    "# # loading the sample submission file\n",
    "# submission = pd.read_csv('sample_solution.csv')\n",
    "# submission.head()"
   ]
  },
  {
   "cell_type": "code",
   "execution_count": null,
   "id": "c7fb1cbc-bd9f-473d-a8f1-ae2c9f83dc5d",
   "metadata": {},
   "outputs": [],
   "source": [
    "# #making predictions and replacing the values of the sample file\n",
    "# target_variable = 'contest-tmp2m-14d__tmp2m'\n",
    "# submission[target_variable] = cb.predict(pool_test)"
   ]
  },
  {
   "cell_type": "code",
   "execution_count": null,
   "id": "ec9e8866-df7c-4f23-8c08-f572b8c880d5",
   "metadata": {},
   "outputs": [],
   "source": [
    "# submission.tail(20)"
   ]
  },
  {
   "cell_type": "code",
   "execution_count": null,
   "id": "58001f72-5957-4b0f-a7f7-2b28131a98fe",
   "metadata": {},
   "outputs": [],
   "source": [
    "# #save the submission file\n",
    "# submission.to_csv('submission.csv', index = False) "
   ]
  },
  {
   "cell_type": "code",
   "execution_count": null,
   "id": "bd96ddfb-ee6c-4934-97d4-9329d92e23be",
   "metadata": {},
   "outputs": [],
   "source": [
    "# bla = test_df[features].columns.tolist()\n",
    "# bla"
   ]
  },
  {
   "cell_type": "code",
   "execution_count": null,
   "id": "45887095-cb6e-4e8d-8f93-0bb84b711f93",
   "metadata": {},
   "outputs": [],
   "source": [
    "X_train_lgbm = X_train.drop(['week_sin', 'week_cos'], axis=1)\n",
    "X_val_lgbm = X_val.drop(['week_sin', 'week_cos'], axis=1)"
   ]
  },
  {
   "cell_type": "code",
   "execution_count": null,
   "id": "73a9880e-0e98-418c-ba2f-e9592bdca085",
   "metadata": {},
   "outputs": [],
   "source": [
    "from lightgbm import LGBMRegressor, plot_importance "
   ]
  },
  {
   "cell_type": "code",
   "execution_count": null,
   "id": "6fbaadc2-9a0d-4b2d-a300-2281ecab628c",
   "metadata": {},
   "outputs": [],
   "source": [
    "lgbm = LGBMRegressor(n_estimators=5000, learning_rate = 0.05, max_depth = 6, seed=30, early_stopping_rounds = 100, loss_function='RMSE')\n",
    "lgbm.fit(X_train_lgbm, y_train, eval_set = [(X_train_lgbm, y_train), (X_val_lgbm, y_val)], verbose = True)\n"
   ]
  },
  {
   "cell_type": "code",
   "execution_count": null,
   "id": "1a559101-ad6e-4695-8668-f1f1ed21670e",
   "metadata": {},
   "outputs": [],
   "source": [
    "import lightgbm\n",
    "\n",
    "plt.rcParams[\"figure.figsize\"] = (12, 22)\n",
    "\n",
    "lightgbm.plot_importance(lgbm, max_num_features = 60, height=.9)"
   ]
  },
  {
   "cell_type": "code",
   "execution_count": null,
   "id": "dbf889d6-d649-4c3a-bfef-b8d604ad1df7",
   "metadata": {},
   "outputs": [],
   "source": [
    "# loading the sample submission file\n",
    "submission = pd.read_csv('sample_solution.csv')\n",
    "submission.head()"
   ]
  },
  {
   "cell_type": "code",
   "execution_count": null,
   "id": "887021d3-25da-4982-88c3-23dc9852549f",
   "metadata": {},
   "outputs": [],
   "source": [
    "test = encoded_df_test[features].drop(['week_sin', 'week_cos'], axis=1)"
   ]
  },
  {
   "cell_type": "code",
   "execution_count": null,
   "id": "c48425a2-63b7-4a81-ad5e-5c714f2a9a94",
   "metadata": {},
   "outputs": [],
   "source": [
    "# #making predictions and replacing the values of the sample file\n",
    "target_variable = 'contest-tmp2m-14d__tmp2m'\n",
    "submission[target_variable] = lgbm.predict(test)"
   ]
  },
  {
   "cell_type": "code",
   "execution_count": null,
   "id": "7cfb1a90-6086-4d20-b4ef-1a368e3ad314",
   "metadata": {},
   "outputs": [],
   "source": [
    "submission.tail(20)"
   ]
  },
  {
   "cell_type": "code",
   "execution_count": null,
   "id": "ece666f8-3fe2-429c-b41a-5e9d4f8b5a09",
   "metadata": {},
   "outputs": [],
   "source": [
    "#save the submission file\n",
    "submission.to_csv('submission.csv', index = False) "
   ]
  },
  {
   "cell_type": "code",
   "execution_count": null,
   "id": "ffcd6d08-8a25-4f5f-a35f-0dffc36edd0c",
   "metadata": {},
   "outputs": [],
   "source": []
  }
 ],
 "metadata": {
  "kernelspec": {
   "display_name": "Python 3 (ipykernel)",
   "language": "python",
   "name": "python3"
  },
  "language_info": {
   "codemirror_mode": {
    "name": "ipython",
    "version": 3
   },
   "file_extension": ".py",
   "mimetype": "text/x-python",
   "name": "python",
   "nbconvert_exporter": "python",
   "pygments_lexer": "ipython3",
   "version": "3.9.12"
  }
 },
 "nbformat": 4,
 "nbformat_minor": 5
}
