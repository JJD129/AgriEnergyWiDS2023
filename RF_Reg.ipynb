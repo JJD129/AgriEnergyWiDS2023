{
 "cells": [
  {
   "cell_type": "markdown",
   "id": "0599a33e",
   "metadata": {},
   "source": [
    "# Objective\n",
    "\n",
    "Prediction task: forecast sub-seasonal temperatures (over a two-week period) within the United States.\n",
    "\n",
    "Data: weather and climate information for various US locations. Start dates for the two-week observation, as well as the forecasted temperature and precipitation from a number of weather forecast models (we will reveal the source of our dataset after the competition closes)\n",
    "\n",
    "Each row correspons to a single location and a single start date for the two-week period.\n",
    "\n",
    "Target: contest-tmp2m-14d__tmp2m, the arithmetic mean of the max and min observed temperature over the next 14 days for each location and start date, computed as (measured max temperature + measured mini temperature) / 2"
   ]
  },
  {
   "cell_type": "code",
   "execution_count": 1,
   "id": "54a845c0",
   "metadata": {},
   "outputs": [],
   "source": [
    "# loading library\n",
    "import pandas as pd\n",
    "import matplotlib.pyplot as plt\n",
    "import numpy as np\n",
    "import seaborn as sns\n",
    "from sklearn.model_selection import train_test_split\n",
    "from sklearn.preprocessing import FunctionTransformer\n",
    "from sklearn.linear_model import LinearRegression\n",
    "from sklearn.metrics import (mean_squared_error, mean_absolute_error, r2_score)\n",
    "from scipy.stats.stats import pearsonr"
   ]
  },
  {
   "cell_type": "code",
   "execution_count": 2,
   "id": "dc2f725c",
   "metadata": {},
   "outputs": [],
   "source": [
    "# read data\n",
    "train = pd.read_csv('train_data.csv')\n",
    "test = pd.read_csv('test_data.csv')"
   ]
  },
  {
   "cell_type": "code",
   "execution_count": 3,
   "id": "f612c962",
   "metadata": {},
   "outputs": [],
   "source": [
    "pd.set_option('display.max_rows', None)\n",
    "pd.set_option('display.max_columns', None)"
   ]
  },
  {
   "cell_type": "code",
   "execution_count": 4,
   "id": "2be1f44e",
   "metadata": {},
   "outputs": [],
   "source": [
    "# train.shape"
   ]
  },
  {
   "cell_type": "code",
   "execution_count": 5,
   "id": "a509abc6",
   "metadata": {},
   "outputs": [],
   "source": [
    "# test.shape"
   ]
  },
  {
   "cell_type": "code",
   "execution_count": 6,
   "id": "67e344b6",
   "metadata": {},
   "outputs": [],
   "source": [
    "# summary stats and putting in spreadsheet\n",
    "# train.describe().T.to_csv(\"train_describe.csv\", index=True)\n"
   ]
  },
  {
   "cell_type": "code",
   "execution_count": 7,
   "id": "37ad67a1",
   "metadata": {},
   "outputs": [
    {
     "data": {
      "text/plain": [
       "index                                         int64\n",
       "lat                                         float64\n",
       "lon                                         float64\n",
       "startdate                                    object\n",
       "contest-pevpr-sfc-gauss-14d__pevpr          float64\n",
       "nmme0-tmp2m-34w__cancm30                    float64\n",
       "nmme0-tmp2m-34w__cancm40                    float64\n",
       "nmme0-tmp2m-34w__ccsm30                     float64\n",
       "nmme0-tmp2m-34w__ccsm40                     float64\n",
       "nmme0-tmp2m-34w__cfsv20                     float64\n",
       "nmme0-tmp2m-34w__gfdlflora0                 float64\n",
       "nmme0-tmp2m-34w__gfdlflorb0                 float64\n",
       "nmme0-tmp2m-34w__gfdl0                      float64\n",
       "nmme0-tmp2m-34w__nasa0                      float64\n",
       "nmme0-tmp2m-34w__nmme0mean                  float64\n",
       "contest-wind-h10-14d__wind-hgt-10           float64\n",
       "nmme-tmp2m-56w__cancm3                      float64\n",
       "nmme-tmp2m-56w__cancm4                      float64\n",
       "nmme-tmp2m-56w__ccsm3                       float64\n",
       "nmme-tmp2m-56w__ccsm4                       float64\n",
       "nmme-tmp2m-56w__cfsv2                       float64\n",
       "nmme-tmp2m-56w__gfdl                        float64\n",
       "nmme-tmp2m-56w__gfdlflora                   float64\n",
       "nmme-tmp2m-56w__gfdlflorb                   float64\n",
       "nmme-tmp2m-56w__nasa                        float64\n",
       "nmme-tmp2m-56w__nmmemean                    float64\n",
       "contest-rhum-sig995-14d__rhum               float64\n",
       "nmme-prate-34w__cancm3                      float64\n",
       "nmme-prate-34w__cancm4                      float64\n",
       "nmme-prate-34w__ccsm3                       float64\n",
       "nmme-prate-34w__ccsm4                       float64\n",
       "nmme-prate-34w__cfsv2                       float64\n",
       "nmme-prate-34w__gfdl                        float64\n",
       "nmme-prate-34w__gfdlflora                   float64\n",
       "nmme-prate-34w__gfdlflorb                   float64\n",
       "nmme-prate-34w__nasa                        float64\n",
       "nmme-prate-34w__nmmemean                    float64\n",
       "contest-wind-h100-14d__wind-hgt-100         float64\n",
       "nmme0-prate-56w__cancm30                    float64\n",
       "nmme0-prate-56w__cancm40                    float64\n",
       "nmme0-prate-56w__ccsm30                     float64\n",
       "nmme0-prate-56w__ccsm40                     float64\n",
       "nmme0-prate-56w__cfsv20                     float64\n",
       "nmme0-prate-56w__gfdlflora0                 float64\n",
       "nmme0-prate-56w__gfdlflorb0                 float64\n",
       "nmme0-prate-56w__gfdl0                      float64\n",
       "nmme0-prate-56w__nasa0                      float64\n",
       "nmme0-prate-56w__nmme0mean                  float64\n",
       "nmme0-prate-34w__cancm30                    float64\n",
       "nmme0-prate-34w__cancm40                    float64\n",
       "nmme0-prate-34w__ccsm30                     float64\n",
       "nmme0-prate-34w__ccsm40                     float64\n",
       "nmme0-prate-34w__cfsv20                     float64\n",
       "nmme0-prate-34w__gfdlflora0                 float64\n",
       "nmme0-prate-34w__gfdlflorb0                 float64\n",
       "nmme0-prate-34w__gfdl0                      float64\n",
       "nmme0-prate-34w__nasa0                      float64\n",
       "nmme0-prate-34w__nmme0mean                  float64\n",
       "contest-tmp2m-14d__tmp2m                    float64\n",
       "contest-slp-14d__slp                        float64\n",
       "contest-wind-vwnd-925-14d__wind-vwnd-925    float64\n",
       "nmme-prate-56w__cancm3                      float64\n",
       "nmme-prate-56w__cancm4                      float64\n",
       "nmme-prate-56w__ccsm3                       float64\n",
       "nmme-prate-56w__ccsm4                       float64\n",
       "nmme-prate-56w__cfsv2                       float64\n",
       "nmme-prate-56w__gfdl                        float64\n",
       "nmme-prate-56w__gfdlflora                   float64\n",
       "nmme-prate-56w__gfdlflorb                   float64\n",
       "nmme-prate-56w__nasa                        float64\n",
       "nmme-prate-56w__nmmemean                    float64\n",
       "contest-pres-sfc-gauss-14d__pres            float64\n",
       "contest-wind-uwnd-250-14d__wind-uwnd-250    float64\n",
       "nmme-tmp2m-34w__cancm3                      float64\n",
       "nmme-tmp2m-34w__cancm4                      float64\n",
       "nmme-tmp2m-34w__ccsm3                       float64\n",
       "nmme-tmp2m-34w__ccsm4                       float64\n",
       "nmme-tmp2m-34w__cfsv2                       float64\n",
       "nmme-tmp2m-34w__gfdl                        float64\n",
       "nmme-tmp2m-34w__gfdlflora                   float64\n",
       "nmme-tmp2m-34w__gfdlflorb                   float64\n",
       "nmme-tmp2m-34w__nasa                        float64\n",
       "nmme-tmp2m-34w__nmmemean                    float64\n",
       "contest-prwtr-eatm-14d__prwtr               float64\n",
       "contest-wind-vwnd-250-14d__wind-vwnd-250    float64\n",
       "contest-precip-14d__precip                  float64\n",
       "contest-wind-h850-14d__wind-hgt-850         float64\n",
       "contest-wind-uwnd-925-14d__wind-uwnd-925    float64\n",
       "contest-wind-h500-14d__wind-hgt-500         float64\n",
       "cancm30                                     float64\n",
       "cancm40                                     float64\n",
       "ccsm30                                      float64\n",
       "ccsm40                                      float64\n",
       "cfsv20                                      float64\n",
       "gfdlflora0                                  float64\n",
       "gfdlflorb0                                  float64\n",
       "gfdl0                                       float64\n",
       "nasa0                                       float64\n",
       "nmme0mean                                   float64\n",
       "climateregions__climateregion                object\n",
       "elevation__elevation                        float64\n",
       "wind-vwnd-250-2010-1                        float64\n",
       "wind-vwnd-250-2010-2                        float64\n",
       "wind-vwnd-250-2010-3                        float64\n",
       "wind-vwnd-250-2010-4                        float64\n",
       "wind-vwnd-250-2010-5                        float64\n",
       "wind-vwnd-250-2010-6                        float64\n",
       "wind-vwnd-250-2010-7                        float64\n",
       "wind-vwnd-250-2010-8                        float64\n",
       "wind-vwnd-250-2010-9                        float64\n",
       "wind-vwnd-250-2010-10                       float64\n",
       "wind-vwnd-250-2010-11                       float64\n",
       "wind-vwnd-250-2010-12                       float64\n",
       "wind-vwnd-250-2010-13                       float64\n",
       "wind-vwnd-250-2010-14                       float64\n",
       "wind-vwnd-250-2010-15                       float64\n",
       "wind-vwnd-250-2010-16                       float64\n",
       "wind-vwnd-250-2010-17                       float64\n",
       "wind-vwnd-250-2010-18                       float64\n",
       "wind-vwnd-250-2010-19                       float64\n",
       "wind-vwnd-250-2010-20                       float64\n",
       "wind-uwnd-250-2010-1                        float64\n",
       "wind-uwnd-250-2010-2                        float64\n",
       "wind-uwnd-250-2010-3                        float64\n",
       "wind-uwnd-250-2010-4                        float64\n",
       "wind-uwnd-250-2010-5                        float64\n",
       "wind-uwnd-250-2010-6                        float64\n",
       "wind-uwnd-250-2010-7                        float64\n",
       "wind-uwnd-250-2010-8                        float64\n",
       "wind-uwnd-250-2010-9                        float64\n",
       "wind-uwnd-250-2010-10                       float64\n",
       "wind-uwnd-250-2010-11                       float64\n",
       "wind-uwnd-250-2010-12                       float64\n",
       "wind-uwnd-250-2010-13                       float64\n",
       "wind-uwnd-250-2010-14                       float64\n",
       "wind-uwnd-250-2010-15                       float64\n",
       "wind-uwnd-250-2010-16                       float64\n",
       "wind-uwnd-250-2010-17                       float64\n",
       "wind-uwnd-250-2010-18                       float64\n",
       "wind-uwnd-250-2010-19                       float64\n",
       "wind-uwnd-250-2010-20                       float64\n",
       "mjo1d__phase                                  int64\n",
       "mjo1d__amplitude                            float64\n",
       "mei__mei                                    float64\n",
       "mei__meirank                                  int64\n",
       "mei__nip                                      int64\n",
       "wind-hgt-850-2010-1                         float64\n",
       "wind-hgt-850-2010-2                         float64\n",
       "wind-hgt-850-2010-3                         float64\n",
       "wind-hgt-850-2010-4                         float64\n",
       "wind-hgt-850-2010-5                         float64\n",
       "wind-hgt-850-2010-6                         float64\n",
       "wind-hgt-850-2010-7                         float64\n",
       "wind-hgt-850-2010-8                         float64\n",
       "wind-hgt-850-2010-9                         float64\n",
       "wind-hgt-850-2010-10                        float64\n",
       "sst-2010-1                                  float64\n",
       "sst-2010-2                                  float64\n",
       "sst-2010-3                                  float64\n",
       "sst-2010-4                                  float64\n",
       "sst-2010-5                                  float64\n",
       "sst-2010-6                                  float64\n",
       "sst-2010-7                                  float64\n",
       "sst-2010-8                                  float64\n",
       "sst-2010-9                                  float64\n",
       "sst-2010-10                                 float64\n",
       "wind-hgt-500-2010-1                         float64\n",
       "wind-hgt-500-2010-2                         float64\n",
       "wind-hgt-500-2010-3                         float64\n",
       "wind-hgt-500-2010-4                         float64\n",
       "wind-hgt-500-2010-5                         float64\n",
       "wind-hgt-500-2010-6                         float64\n",
       "wind-hgt-500-2010-7                         float64\n",
       "wind-hgt-500-2010-8                         float64\n",
       "wind-hgt-500-2010-9                         float64\n",
       "wind-hgt-500-2010-10                        float64\n",
       "icec-2010-1                                 float64\n",
       "icec-2010-2                                 float64\n",
       "icec-2010-3                                 float64\n",
       "icec-2010-4                                 float64\n",
       "icec-2010-5                                 float64\n",
       "icec-2010-6                                 float64\n",
       "icec-2010-7                                 float64\n",
       "icec-2010-8                                 float64\n",
       "icec-2010-9                                 float64\n",
       "icec-2010-10                                float64\n",
       "wind-uwnd-925-2010-1                        float64\n",
       "wind-uwnd-925-2010-2                        float64\n",
       "wind-uwnd-925-2010-3                        float64\n",
       "wind-uwnd-925-2010-4                        float64\n",
       "wind-uwnd-925-2010-5                        float64\n",
       "wind-uwnd-925-2010-6                        float64\n",
       "wind-uwnd-925-2010-7                        float64\n",
       "wind-uwnd-925-2010-8                        float64\n",
       "wind-uwnd-925-2010-9                        float64\n",
       "wind-uwnd-925-2010-10                       float64\n",
       "wind-uwnd-925-2010-11                       float64\n",
       "wind-uwnd-925-2010-12                       float64\n",
       "wind-uwnd-925-2010-13                       float64\n",
       "wind-uwnd-925-2010-14                       float64\n",
       "wind-uwnd-925-2010-15                       float64\n",
       "wind-uwnd-925-2010-16                       float64\n",
       "wind-uwnd-925-2010-17                       float64\n",
       "wind-uwnd-925-2010-18                       float64\n",
       "wind-uwnd-925-2010-19                       float64\n",
       "wind-uwnd-925-2010-20                       float64\n",
       "wind-hgt-10-2010-1                          float64\n",
       "wind-hgt-10-2010-2                          float64\n",
       "wind-hgt-10-2010-3                          float64\n",
       "wind-hgt-10-2010-4                          float64\n",
       "wind-hgt-10-2010-5                          float64\n",
       "wind-hgt-10-2010-6                          float64\n",
       "wind-hgt-10-2010-7                          float64\n",
       "wind-hgt-10-2010-8                          float64\n",
       "wind-hgt-10-2010-9                          float64\n",
       "wind-hgt-10-2010-10                         float64\n",
       "wind-hgt-100-2010-1                         float64\n",
       "wind-hgt-100-2010-2                         float64\n",
       "wind-hgt-100-2010-3                         float64\n",
       "wind-hgt-100-2010-4                         float64\n",
       "wind-hgt-100-2010-5                         float64\n",
       "wind-hgt-100-2010-6                         float64\n",
       "wind-hgt-100-2010-7                         float64\n",
       "wind-hgt-100-2010-8                         float64\n",
       "wind-hgt-100-2010-9                         float64\n",
       "wind-hgt-100-2010-10                        float64\n",
       "wind-vwnd-925-2010-1                        float64\n",
       "wind-vwnd-925-2010-2                        float64\n",
       "wind-vwnd-925-2010-3                        float64\n",
       "wind-vwnd-925-2010-4                        float64\n",
       "wind-vwnd-925-2010-5                        float64\n",
       "wind-vwnd-925-2010-6                        float64\n",
       "wind-vwnd-925-2010-7                        float64\n",
       "wind-vwnd-925-2010-8                        float64\n",
       "wind-vwnd-925-2010-9                        float64\n",
       "wind-vwnd-925-2010-10                       float64\n",
       "wind-vwnd-925-2010-11                       float64\n",
       "wind-vwnd-925-2010-12                       float64\n",
       "wind-vwnd-925-2010-13                       float64\n",
       "wind-vwnd-925-2010-14                       float64\n",
       "wind-vwnd-925-2010-15                       float64\n",
       "wind-vwnd-925-2010-16                       float64\n",
       "wind-vwnd-925-2010-17                       float64\n",
       "wind-vwnd-925-2010-18                       float64\n",
       "wind-vwnd-925-2010-19                       float64\n",
       "wind-vwnd-925-2010-20                       float64\n",
       "dtype: object"
      ]
     },
     "execution_count": 7,
     "metadata": {},
     "output_type": "execute_result"
    }
   ],
   "source": [
    "train.dtypes"
   ]
  },
  {
   "cell_type": "markdown",
   "id": "49a4e9f0",
   "metadata": {},
   "source": [
    "object items are:\n",
    "* startdate\n",
    "* climateregions__climateregion\n",
    "\n",
    "int64 items are:\n",
    "* index\n",
    "* mjo1d__phase\n",
    "* mei__meirank\n",
    "* mei__nip\n",
    "\n",
    "rest are float64 "
   ]
  },
  {
   "cell_type": "code",
   "execution_count": 8,
   "id": "c42a4d40",
   "metadata": {},
   "outputs": [],
   "source": [
    "train = pd.get_dummies(train, columns =['climateregions__climateregion'])"
   ]
  },
  {
   "cell_type": "code",
   "execution_count": 9,
   "id": "5151f506",
   "metadata": {},
   "outputs": [
    {
     "data": {
      "text/plain": [
       "index                                         int64\n",
       "lat                                         float64\n",
       "lon                                         float64\n",
       "startdate                                    object\n",
       "contest-pevpr-sfc-gauss-14d__pevpr          float64\n",
       "nmme0-tmp2m-34w__cancm30                    float64\n",
       "nmme0-tmp2m-34w__cancm40                    float64\n",
       "nmme0-tmp2m-34w__ccsm30                     float64\n",
       "nmme0-tmp2m-34w__ccsm40                     float64\n",
       "nmme0-tmp2m-34w__cfsv20                     float64\n",
       "nmme0-tmp2m-34w__gfdlflora0                 float64\n",
       "nmme0-tmp2m-34w__gfdlflorb0                 float64\n",
       "nmme0-tmp2m-34w__gfdl0                      float64\n",
       "nmme0-tmp2m-34w__nasa0                      float64\n",
       "nmme0-tmp2m-34w__nmme0mean                  float64\n",
       "contest-wind-h10-14d__wind-hgt-10           float64\n",
       "nmme-tmp2m-56w__cancm3                      float64\n",
       "nmme-tmp2m-56w__cancm4                      float64\n",
       "nmme-tmp2m-56w__ccsm3                       float64\n",
       "nmme-tmp2m-56w__ccsm4                       float64\n",
       "nmme-tmp2m-56w__cfsv2                       float64\n",
       "nmme-tmp2m-56w__gfdl                        float64\n",
       "nmme-tmp2m-56w__gfdlflora                   float64\n",
       "nmme-tmp2m-56w__gfdlflorb                   float64\n",
       "nmme-tmp2m-56w__nasa                        float64\n",
       "nmme-tmp2m-56w__nmmemean                    float64\n",
       "contest-rhum-sig995-14d__rhum               float64\n",
       "nmme-prate-34w__cancm3                      float64\n",
       "nmme-prate-34w__cancm4                      float64\n",
       "nmme-prate-34w__ccsm3                       float64\n",
       "nmme-prate-34w__ccsm4                       float64\n",
       "nmme-prate-34w__cfsv2                       float64\n",
       "nmme-prate-34w__gfdl                        float64\n",
       "nmme-prate-34w__gfdlflora                   float64\n",
       "nmme-prate-34w__gfdlflorb                   float64\n",
       "nmme-prate-34w__nasa                        float64\n",
       "nmme-prate-34w__nmmemean                    float64\n",
       "contest-wind-h100-14d__wind-hgt-100         float64\n",
       "nmme0-prate-56w__cancm30                    float64\n",
       "nmme0-prate-56w__cancm40                    float64\n",
       "nmme0-prate-56w__ccsm30                     float64\n",
       "nmme0-prate-56w__ccsm40                     float64\n",
       "nmme0-prate-56w__cfsv20                     float64\n",
       "nmme0-prate-56w__gfdlflora0                 float64\n",
       "nmme0-prate-56w__gfdlflorb0                 float64\n",
       "nmme0-prate-56w__gfdl0                      float64\n",
       "nmme0-prate-56w__nasa0                      float64\n",
       "nmme0-prate-56w__nmme0mean                  float64\n",
       "nmme0-prate-34w__cancm30                    float64\n",
       "nmme0-prate-34w__cancm40                    float64\n",
       "nmme0-prate-34w__ccsm30                     float64\n",
       "nmme0-prate-34w__ccsm40                     float64\n",
       "nmme0-prate-34w__cfsv20                     float64\n",
       "nmme0-prate-34w__gfdlflora0                 float64\n",
       "nmme0-prate-34w__gfdlflorb0                 float64\n",
       "nmme0-prate-34w__gfdl0                      float64\n",
       "nmme0-prate-34w__nasa0                      float64\n",
       "nmme0-prate-34w__nmme0mean                  float64\n",
       "contest-slp-14d__slp                        float64\n",
       "contest-wind-vwnd-925-14d__wind-vwnd-925    float64\n",
       "nmme-prate-56w__cancm3                      float64\n",
       "nmme-prate-56w__cancm4                      float64\n",
       "nmme-prate-56w__ccsm3                       float64\n",
       "nmme-prate-56w__ccsm4                       float64\n",
       "nmme-prate-56w__cfsv2                       float64\n",
       "nmme-prate-56w__gfdl                        float64\n",
       "nmme-prate-56w__gfdlflora                   float64\n",
       "nmme-prate-56w__gfdlflorb                   float64\n",
       "nmme-prate-56w__nasa                        float64\n",
       "nmme-prate-56w__nmmemean                    float64\n",
       "contest-pres-sfc-gauss-14d__pres            float64\n",
       "contest-wind-uwnd-250-14d__wind-uwnd-250    float64\n",
       "nmme-tmp2m-34w__cancm3                      float64\n",
       "nmme-tmp2m-34w__cancm4                      float64\n",
       "nmme-tmp2m-34w__ccsm3                       float64\n",
       "nmme-tmp2m-34w__ccsm4                       float64\n",
       "nmme-tmp2m-34w__cfsv2                       float64\n",
       "nmme-tmp2m-34w__gfdl                        float64\n",
       "nmme-tmp2m-34w__gfdlflora                   float64\n",
       "nmme-tmp2m-34w__gfdlflorb                   float64\n",
       "nmme-tmp2m-34w__nasa                        float64\n",
       "nmme-tmp2m-34w__nmmemean                    float64\n",
       "contest-prwtr-eatm-14d__prwtr               float64\n",
       "contest-wind-vwnd-250-14d__wind-vwnd-250    float64\n",
       "contest-precip-14d__precip                  float64\n",
       "contest-wind-h850-14d__wind-hgt-850         float64\n",
       "contest-wind-uwnd-925-14d__wind-uwnd-925    float64\n",
       "contest-wind-h500-14d__wind-hgt-500         float64\n",
       "cancm30                                     float64\n",
       "cancm40                                     float64\n",
       "ccsm30                                      float64\n",
       "ccsm40                                      float64\n",
       "cfsv20                                      float64\n",
       "gfdlflora0                                  float64\n",
       "gfdlflorb0                                  float64\n",
       "gfdl0                                       float64\n",
       "nasa0                                       float64\n",
       "nmme0mean                                   float64\n",
       "climateregions__climateregion                object\n",
       "elevation__elevation                          int64\n",
       "wind-vwnd-250-2010-1                        float64\n",
       "wind-vwnd-250-2010-2                        float64\n",
       "wind-vwnd-250-2010-3                        float64\n",
       "wind-vwnd-250-2010-4                        float64\n",
       "wind-vwnd-250-2010-5                        float64\n",
       "wind-vwnd-250-2010-6                        float64\n",
       "wind-vwnd-250-2010-7                        float64\n",
       "wind-vwnd-250-2010-8                        float64\n",
       "wind-vwnd-250-2010-9                        float64\n",
       "wind-vwnd-250-2010-10                       float64\n",
       "wind-vwnd-250-2010-11                       float64\n",
       "wind-vwnd-250-2010-12                       float64\n",
       "wind-vwnd-250-2010-13                       float64\n",
       "wind-vwnd-250-2010-14                       float64\n",
       "wind-vwnd-250-2010-15                       float64\n",
       "wind-vwnd-250-2010-16                       float64\n",
       "wind-vwnd-250-2010-17                       float64\n",
       "wind-vwnd-250-2010-18                       float64\n",
       "wind-vwnd-250-2010-19                       float64\n",
       "wind-vwnd-250-2010-20                       float64\n",
       "wind-uwnd-250-2010-1                        float64\n",
       "wind-uwnd-250-2010-2                        float64\n",
       "wind-uwnd-250-2010-3                        float64\n",
       "wind-uwnd-250-2010-4                        float64\n",
       "wind-uwnd-250-2010-5                        float64\n",
       "wind-uwnd-250-2010-6                        float64\n",
       "wind-uwnd-250-2010-7                        float64\n",
       "wind-uwnd-250-2010-8                        float64\n",
       "wind-uwnd-250-2010-9                        float64\n",
       "wind-uwnd-250-2010-10                       float64\n",
       "wind-uwnd-250-2010-11                       float64\n",
       "wind-uwnd-250-2010-12                       float64\n",
       "wind-uwnd-250-2010-13                       float64\n",
       "wind-uwnd-250-2010-14                       float64\n",
       "wind-uwnd-250-2010-15                       float64\n",
       "wind-uwnd-250-2010-16                       float64\n",
       "wind-uwnd-250-2010-17                       float64\n",
       "wind-uwnd-250-2010-18                       float64\n",
       "wind-uwnd-250-2010-19                       float64\n",
       "wind-uwnd-250-2010-20                       float64\n",
       "mjo1d__phase                                float64\n",
       "mjo1d__amplitude                            float64\n",
       "mei__mei                                    float64\n",
       "mei__meirank                                float64\n",
       "mei__nip                                    float64\n",
       "wind-hgt-850-2010-1                         float64\n",
       "wind-hgt-850-2010-2                         float64\n",
       "wind-hgt-850-2010-3                         float64\n",
       "wind-hgt-850-2010-4                         float64\n",
       "wind-hgt-850-2010-5                         float64\n",
       "wind-hgt-850-2010-6                         float64\n",
       "wind-hgt-850-2010-7                         float64\n",
       "wind-hgt-850-2010-8                         float64\n",
       "wind-hgt-850-2010-9                         float64\n",
       "wind-hgt-850-2010-10                        float64\n",
       "sst-2010-1                                  float64\n",
       "sst-2010-2                                  float64\n",
       "sst-2010-3                                  float64\n",
       "sst-2010-4                                  float64\n",
       "sst-2010-5                                  float64\n",
       "sst-2010-6                                  float64\n",
       "sst-2010-7                                  float64\n",
       "sst-2010-8                                  float64\n",
       "sst-2010-9                                  float64\n",
       "sst-2010-10                                 float64\n",
       "wind-hgt-500-2010-1                         float64\n",
       "wind-hgt-500-2010-2                         float64\n",
       "wind-hgt-500-2010-3                         float64\n",
       "wind-hgt-500-2010-4                         float64\n",
       "wind-hgt-500-2010-5                         float64\n",
       "wind-hgt-500-2010-6                         float64\n",
       "wind-hgt-500-2010-7                         float64\n",
       "wind-hgt-500-2010-8                         float64\n",
       "wind-hgt-500-2010-9                         float64\n",
       "wind-hgt-500-2010-10                        float64\n",
       "icec-2010-1                                 float64\n",
       "icec-2010-2                                 float64\n",
       "icec-2010-3                                 float64\n",
       "icec-2010-4                                 float64\n",
       "icec-2010-5                                 float64\n",
       "icec-2010-6                                 float64\n",
       "icec-2010-7                                 float64\n",
       "icec-2010-8                                 float64\n",
       "icec-2010-9                                 float64\n",
       "icec-2010-10                                float64\n",
       "wind-uwnd-925-2010-1                        float64\n",
       "wind-uwnd-925-2010-2                        float64\n",
       "wind-uwnd-925-2010-3                        float64\n",
       "wind-uwnd-925-2010-4                        float64\n",
       "wind-uwnd-925-2010-5                        float64\n",
       "wind-uwnd-925-2010-6                        float64\n",
       "wind-uwnd-925-2010-7                        float64\n",
       "wind-uwnd-925-2010-8                        float64\n",
       "wind-uwnd-925-2010-9                        float64\n",
       "wind-uwnd-925-2010-10                       float64\n",
       "wind-uwnd-925-2010-11                       float64\n",
       "wind-uwnd-925-2010-12                       float64\n",
       "wind-uwnd-925-2010-13                       float64\n",
       "wind-uwnd-925-2010-14                       float64\n",
       "wind-uwnd-925-2010-15                       float64\n",
       "wind-uwnd-925-2010-16                       float64\n",
       "wind-uwnd-925-2010-17                       float64\n",
       "wind-uwnd-925-2010-18                       float64\n",
       "wind-uwnd-925-2010-19                       float64\n",
       "wind-uwnd-925-2010-20                       float64\n",
       "wind-hgt-10-2010-1                          float64\n",
       "wind-hgt-10-2010-2                          float64\n",
       "wind-hgt-10-2010-3                          float64\n",
       "wind-hgt-10-2010-4                          float64\n",
       "wind-hgt-10-2010-5                          float64\n",
       "wind-hgt-10-2010-6                          float64\n",
       "wind-hgt-10-2010-7                          float64\n",
       "wind-hgt-10-2010-8                          float64\n",
       "wind-hgt-10-2010-9                          float64\n",
       "wind-hgt-10-2010-10                         float64\n",
       "wind-hgt-100-2010-1                         float64\n",
       "wind-hgt-100-2010-2                         float64\n",
       "wind-hgt-100-2010-3                         float64\n",
       "wind-hgt-100-2010-4                         float64\n",
       "wind-hgt-100-2010-5                         float64\n",
       "wind-hgt-100-2010-6                         float64\n",
       "wind-hgt-100-2010-7                         float64\n",
       "wind-hgt-100-2010-8                         float64\n",
       "wind-hgt-100-2010-9                         float64\n",
       "wind-hgt-100-2010-10                        float64\n",
       "wind-vwnd-925-2010-1                        float64\n",
       "wind-vwnd-925-2010-2                        float64\n",
       "wind-vwnd-925-2010-3                        float64\n",
       "wind-vwnd-925-2010-4                        float64\n",
       "wind-vwnd-925-2010-5                        float64\n",
       "wind-vwnd-925-2010-6                        float64\n",
       "wind-vwnd-925-2010-7                        float64\n",
       "wind-vwnd-925-2010-8                        float64\n",
       "wind-vwnd-925-2010-9                        float64\n",
       "wind-vwnd-925-2010-10                       float64\n",
       "wind-vwnd-925-2010-11                       float64\n",
       "wind-vwnd-925-2010-12                       float64\n",
       "wind-vwnd-925-2010-13                       float64\n",
       "wind-vwnd-925-2010-14                       float64\n",
       "wind-vwnd-925-2010-15                       float64\n",
       "wind-vwnd-925-2010-16                       float64\n",
       "wind-vwnd-925-2010-17                       float64\n",
       "wind-vwnd-925-2010-18                       float64\n",
       "wind-vwnd-925-2010-19                       float64\n",
       "wind-vwnd-925-2010-20                       float64\n",
       "dtype: object"
      ]
     },
     "execution_count": 9,
     "metadata": {},
     "output_type": "execute_result"
    }
   ],
   "source": [
    "test.dtypes"
   ]
  },
  {
   "cell_type": "code",
   "execution_count": 10,
   "id": "7fe63d8b",
   "metadata": {},
   "outputs": [],
   "source": [
    "test = pd.get_dummies(test, columns =['climateregions__climateregion'])"
   ]
  },
  {
   "cell_type": "code",
   "execution_count": 11,
   "id": "f0255bcb",
   "metadata": {},
   "outputs": [],
   "source": [
    "# cast policy startdate to datetime\n",
    "train['startdate'] = pd.to_datetime(train['startdate'])\n",
    "test['startdate'] = pd.to_datetime(train['startdate'])"
   ]
  },
  {
   "cell_type": "code",
   "execution_count": 12,
   "id": "c19f1187",
   "metadata": {},
   "outputs": [],
   "source": [
    "# search = pd.DataFrame.duplicated(train)\n",
    "# print(search[search == True])"
   ]
  },
  {
   "cell_type": "code",
   "execution_count": 13,
   "id": "8fb63229",
   "metadata": {},
   "outputs": [],
   "source": [
    "# search = pd.DataFrame.duplicated(test)\n",
    "# print(search[search == True])"
   ]
  },
  {
   "cell_type": "code",
   "execution_count": 14,
   "id": "f919973d",
   "metadata": {},
   "outputs": [
    {
     "name": "stdout",
     "output_type": "stream",
     "text": [
      "nmme0-tmp2m-34w__ccsm30    15934\n",
      "nmme-tmp2m-56w__ccsm3      10280\n",
      "nmme-prate-34w__ccsm3       8738\n",
      "nmme0-prate-56w__ccsm30    15934\n",
      "nmme0-prate-34w__ccsm30    15934\n",
      "nmme-prate-56w__ccsm3      10280\n",
      "nmme-tmp2m-34w__ccsm3       8738\n",
      "ccsm30                     15934\n",
      "dtype: int64\n"
     ]
    }
   ],
   "source": [
    "#check for missing\n",
    "null_columns=train.columns[train.isnull().sum() != 0]\n",
    "print(train[null_columns].isnull().sum())"
   ]
  },
  {
   "cell_type": "markdown",
   "id": "d98ccde1",
   "metadata": {},
   "source": [
    "There are features that share the same missing values. For example, ccsm30 has 15934 missing values and so do nmme0-prate-34w__ccsm30, nmme0-prate-56w__ccsm30, nmme0-prate-56w__ccsm30, and nmme0-tmp2m-34w__ccsm30. ccsm30 values are forecasts from weather models and those values could be used to forecast prate-34w__ccsm30, nmme0-prate-56w__ccsm30, nmme0-prate-56w__ccsm30, and nmme0-tmp2m-34w__ccsm30. The same thing might be the case for other features that used forecasted values to extrapolate their measurements.\n",
    "\n",
    "*might need to check for spurious correlation\n"
   ]
  },
  {
   "cell_type": "code",
   "execution_count": 15,
   "id": "be5f7b04",
   "metadata": {},
   "outputs": [],
   "source": [
    "#check for missing\n",
    "# null_columns=test.columns[test.isnull().sum() != 0]\n",
    "# print(test[null_columns].isnull().sum())"
   ]
  },
  {
   "cell_type": "markdown",
   "id": "21243f13",
   "metadata": {},
   "source": [
    "Test dataset doesn't have any null columns so they don't have to treat for nulls"
   ]
  },
  {
   "cell_type": "code",
   "execution_count": 16,
   "id": "48d64095",
   "metadata": {},
   "outputs": [],
   "source": [
    "# train['climateregions__climateregion'].unique()"
   ]
  },
  {
   "cell_type": "code",
   "execution_count": 17,
   "id": "a7202a52",
   "metadata": {},
   "outputs": [],
   "source": [
    "# test['climateregions__climateregion'].unique()"
   ]
  },
  {
   "cell_type": "code",
   "execution_count": 18,
   "id": "c0c9f36e",
   "metadata": {
    "scrolled": false
   },
   "outputs": [],
   "source": [
    "# plt.figure(figsize=(15,10))\n",
    "# sns.lineplot(data=train, x='startdate', y='contest-tmp2m-14d__tmp2m',hue='climateregions__climateregion', ci=None)\n",
    "# plt.legend(loc='center left', bbox_to_anchor=(1.0, 0.5))"
   ]
  },
  {
   "cell_type": "code",
   "execution_count": 19,
   "id": "d8c260b3",
   "metadata": {},
   "outputs": [],
   "source": [
    "# # top 500 getting columns with a certain naming convention into a new df\n",
    "# df_500 = train.head(500)\n",
    "# df_500_nmme = df_500[[col for col in df_500.columns if 'nmme0-tmp2m-34w' in col]]"
   ]
  },
  {
   "cell_type": "code",
   "execution_count": 20,
   "id": "b1a6a095",
   "metadata": {},
   "outputs": [],
   "source": [
    "# # concat new df to add a startdate and targe variable, resetting index to be startdate, so x axis label is the startdate\n",
    "# df_500_nmme = pd.concat([df_500_nmme, df_500[['contest-tmp2m-14d__tmp2m','startdate']]], axis=1)\n",
    "# df_500_nmme = df_500_nmme.set_index('startdate')\n",
    "\n",
    "# plt.figure(figsize=(20,15))\n",
    "# #sns.lineplot(data=df_500_nmme, x='startdate', y='contest-tmp2m-14d__tmp2m', ci=None)\n",
    "\n",
    "# #Plot all the columns in a single plot\n",
    "# df_500_nmme.plot(kind='line')\n",
    "\n",
    "# #Add a title and labels for the x and y axis\n",
    "# plt.title(f'Temperature comparison (all nmme0-tmp2m-34w columns vs contest-tmp2m-14d__tmp2m)')\n",
    "# plt.xlabel('Date')\n",
    "# plt.ylabel('Temperature (°C)')\n",
    "# plt.legend(loc='center left', bbox_to_anchor=(1.0, 0.5))\n",
    "\n",
    "# #Show the plot\n",
    "# plt.show()\n"
   ]
  },
  {
   "cell_type": "markdown",
   "id": "41f34f3f",
   "metadata": {},
   "source": [
    "Leonie made a feature location based on lat/lon coordinates, which makes sense if we want to better understand seasonal temps. Sub seasonal temps vary between locations across the continental US.\n",
    "https://www.kaggle.com/code/iamleonie/wids-datathon-2023-forecasting-with-lgbm#Feature-Engineering\n",
    "\n",
    "However there is an issue with the lat/lons. The test dataset has different locations. The issue was resolved by Flavia in her notebook where the issue stems from a rounding difference in the test data. She suggests truncating the train lat/lon. https://www.kaggle.com/code/flaviafelicioni/wids-2023-different-locations-train-test-solved#Solution"
   ]
  },
  {
   "cell_type": "code",
   "execution_count": 21,
   "id": "e0e47c0a",
   "metadata": {},
   "outputs": [
    {
     "name": "stdout",
     "output_type": "stream",
     "text": [
      "514 unique locations\n"
     ]
    }
   ],
   "source": [
    "scale = 14\n",
    "\n",
    "train.loc[:,'lat']=round(train.lat,scale)\n",
    "train.loc[:,'lon']=round(train.lon,scale)\n",
    "\n",
    "test.loc[:,'lat']=round(test.lat,scale)\n",
    "test.loc[:,'lon']=round(test.lon,scale)\n",
    "\n",
    "# Concatenate train and test data\n",
    "all_df = pd.concat([train, test], axis=0)\n",
    "\n",
    "# Create new feature\n",
    "all_df['loc_group'] = all_df.groupby(['lat','lon']).ngroup()\n",
    "\n",
    "print(f'{all_df.loc_group.nunique()} unique locations')\n",
    "\n",
    "# Split back up\n",
    "train = all_df.iloc[:len(train)]\n",
    "test = all_df.iloc[len(train):]"
   ]
  },
  {
   "cell_type": "markdown",
   "id": "52103bc5",
   "metadata": {},
   "source": [
    "### Feature Engineering"
   ]
  },
  {
   "cell_type": "markdown",
   "id": "cf73c315",
   "metadata": {},
   "source": [
    "From leonie:\n",
    "\n",
    "Often times in Machine Learning, missing values are filled with the mean value. But as you can see below in pink, filling missing values with the mean value is not ideal. Our human intuition tells us that the time series values should not drop down to the mean value where the data points are missing. Instead the values should probably be filled with some value between 27 and 30.\n",
    "\n",
    "For this purpose, we can use the .ffill() method, which just uses the last observed value to fill the missing value.\n",
    "\n",
    "This is a popular approach to fill missing values in time series forecasting. It is also similar to the naive forecasting method. In naive forecasts, the forecast is simply the observed value. Despite its simplicity, the naive approach is a difficult baseline to beat. But think about it: If you want to forecast tomorrow's weather, a good guess would be that it will be similar to today. If it snowed today, it is quite unlikely that it is going to be hot tomorrow."
   ]
  },
  {
   "cell_type": "code",
   "execution_count": 22,
   "id": "402a2454",
   "metadata": {},
   "outputs": [],
   "source": [
    "# filling na values by startdate and location group\n",
    "train = train.sort_values(by=['loc_group', 'startdate']).ffill()"
   ]
  },
  {
   "cell_type": "markdown",
   "id": "32870053",
   "metadata": {},
   "source": [
    "Need to create a time feature to account for data drift\n",
    "\n",
    "https://colab.research.google.com/drive/10r73mOp1R7cORfeuP97V65a-rgwGyfWr?usp=sharing#scrollTo=IEXmclobK12D"
   ]
  },
  {
   "cell_type": "code",
   "execution_count": 23,
   "id": "80fbdc2e",
   "metadata": {},
   "outputs": [],
   "source": [
    "# time features\n",
    "\n",
    "def create_time_features(df):\n",
    "    df = df.copy()\n",
    "    #df['year'] = df.startdate.dt.year\n",
    "    df['quarter'] = df.startdate.dt.quarter\n",
    "    df['month'] = df.startdate.dt.month\n",
    "    df['week'] = df.startdate.dt.weekofyear\n",
    "    df['dayofyear'] = df.startdate.dt.day_of_year\n",
    "    return df\n"
   ]
  },
  {
   "cell_type": "code",
   "execution_count": 24,
   "id": "1eb9fd97",
   "metadata": {},
   "outputs": [
    {
     "name": "stderr",
     "output_type": "stream",
     "text": [
      "/var/folders/z1/jmd4wty51vsd9gxz5hn_9n9w0000gn/T/ipykernel_5120/3847175117.py:8: FutureWarning: Series.dt.weekofyear and Series.dt.week have been deprecated. Please use Series.dt.isocalendar().week instead.\n",
      "  df['week'] = df.startdate.dt.weekofyear\n",
      "/var/folders/z1/jmd4wty51vsd9gxz5hn_9n9w0000gn/T/ipykernel_5120/3847175117.py:8: FutureWarning: Series.dt.weekofyear and Series.dt.week have been deprecated. Please use Series.dt.isocalendar().week instead.\n",
      "  df['week'] = df.startdate.dt.weekofyear\n"
     ]
    }
   ],
   "source": [
    "# creating a new dataset for time feature transformation\n",
    "traindf = create_time_features(train)\n",
    "testdf = create_time_features(test)"
   ]
  },
  {
   "cell_type": "code",
   "execution_count": 25,
   "id": "1f1140d2",
   "metadata": {},
   "outputs": [],
   "source": [
    "def add_season(df):\n",
    "  month_to_season = {\n",
    "      1: 0,\n",
    "      2: 0,\n",
    "      3: 1,\n",
    "      4: 1,\n",
    "      5: 1,\n",
    "      6: 2,\n",
    "      7: 2,\n",
    "      8: 2, \n",
    "      9: 3, \n",
    "      10: 3,\n",
    "      11: 3,\n",
    "      12: 0\n",
    "  }\n",
    "  df['season'] = df['month'].apply(lambda x: month_to_season[x])\n",
    "    \n",
    "add_season(traindf)\n",
    "add_season(testdf)"
   ]
  },
  {
   "cell_type": "code",
   "execution_count": 26,
   "id": "b4768473",
   "metadata": {},
   "outputs": [],
   "source": [
    "def sin_transformer(period):\n",
    "    return FunctionTransformer(lambda x: np.sin(x / period * 2 * np.pi))\n",
    "\n",
    "\n",
    "def cos_transformer(period):\n",
    "    return FunctionTransformer(lambda x: np.cos(x / period * 2 * np.pi))"
   ]
  },
  {
   "cell_type": "code",
   "execution_count": 27,
   "id": "7ded5ed0",
   "metadata": {},
   "outputs": [],
   "source": [
    "def encode_cyclical(df):\n",
    "  # encode the day with a period of 365\n",
    "  df['day_of_year_sin'] = sin_transformer(365).fit_transform(df['dayofyear'])\n",
    "  df['day_of_year_cos'] = cos_transformer(365).fit_transform(df['dayofyear'])\n",
    "\n",
    "  # encode the month with a period of 12\n",
    "  df['month_sin'] = sin_transformer(12).fit_transform(df['month'])\n",
    "  df['month_cos'] = cos_transformer(12).fit_transform(df['month'])\n",
    "\n",
    "  # encode the season with a period of 4\n",
    "  df['season_sin'] = sin_transformer(4).fit_transform(df['season'])\n",
    "  df['season_cos'] = cos_transformer(4).fit_transform(df['season'])\n",
    "\n",
    "encode_cyclical(traindf)\n",
    "encode_cyclical(testdf)"
   ]
  },
  {
   "cell_type": "code",
   "execution_count": 28,
   "id": "bffe36e9",
   "metadata": {},
   "outputs": [],
   "source": [
    "# object_columns = [col for col in traindf.columns if traindf[col].dtype == 'object']\n",
    "# print(object_columns)"
   ]
  },
  {
   "cell_type": "code",
   "execution_count": 29,
   "id": "05a70ac2",
   "metadata": {},
   "outputs": [],
   "source": [
    "# fig, ax = plt.subplots(figsize=(7, 5))\n",
    "# plt.title(\"Graphical visualization of cyclical encoding\")\n",
    "# ax.scatter(traindf[\"month_sin\"], traindf[\"month_cos\"], c=traindf[\"month\"])"
   ]
  },
  {
   "cell_type": "markdown",
   "id": "9c4a8ad3",
   "metadata": {},
   "source": [
    "### Feature Selection\n",
    "\n",
    "look at correlation and feature importance"
   ]
  },
  {
   "cell_type": "markdown",
   "id": "a0e3afc6",
   "metadata": {},
   "source": [
    "#### Correlation\n",
    "\n",
    "Want to remove highly correlated features from model because of multicollinearity"
   ]
  },
  {
   "cell_type": "code",
   "execution_count": 30,
   "id": "176a55d2",
   "metadata": {},
   "outputs": [],
   "source": [
    "# corr = traindf.drop(\"index\", axis=1).corr()\n",
    "# f, ax = plt.subplots(figsize=(100,100))\n",
    "# mask = np.triu(np.ones_like(corr, dtype=bool))\n",
    "# sns.heatmap(corr,annot = True, mask = mask)\n",
    "# plt.show()"
   ]
  },
  {
   "cell_type": "code",
   "execution_count": 31,
   "id": "a42a1a19",
   "metadata": {},
   "outputs": [],
   "source": [
    "## Identify correlated features to drop that fall above a correlation threshold \n",
    "## https://goodboychan.github.io/python/datacamp/machine_learning/2020/07/08/02-Feature-selection-I-selecting-for-feature-information.html \n",
    "def identify_correlated(df, threshold):\n",
    "    corr_matrix = df.corr().abs()\n",
    "    mask = np.triu(np.ones_like(corr_matrix, dtype=bool))\n",
    "    reduced_corr_matrix = corr_matrix.mask(mask)\n",
    "    features_to_drop = [c for c in reduced_corr_matrix.columns if any(reduced_corr_matrix[c] > threshold)]\n",
    "    return features_to_drop"
   ]
  },
  {
   "cell_type": "code",
   "execution_count": 32,
   "id": "ca9d4615",
   "metadata": {},
   "outputs": [],
   "source": [
    "## Get the column names to drop \n",
    "to_drop = identify_correlated(traindf, threshold=.96)"
   ]
  },
  {
   "cell_type": "code",
   "execution_count": 33,
   "id": "de2dfd86",
   "metadata": {},
   "outputs": [],
   "source": [
    "df = pd.DataFrame(traindf.drop(to_drop, axis=1))"
   ]
  },
  {
   "cell_type": "code",
   "execution_count": 34,
   "id": "bec1bd19",
   "metadata": {},
   "outputs": [],
   "source": [
    "# object_columns = [col for col in df.columns if df[col].dtype == 'object']\n",
    "# print(object_columns)"
   ]
  },
  {
   "cell_type": "markdown",
   "id": "e9736083",
   "metadata": {},
   "source": [
    "THE ACTUAL TEST DATASET HAS A TIME FEATURE TRANSFORMATION (testdf). DON'T FORGET TO APPY TO MODEL LATER:"
   ]
  },
  {
   "cell_type": "markdown",
   "id": "d029550e",
   "metadata": {},
   "source": [
    "### Model"
   ]
  },
  {
   "cell_type": "code",
   "execution_count": 35,
   "id": "8823c631",
   "metadata": {},
   "outputs": [],
   "source": [
    "y = df['contest-tmp2m-14d__tmp2m']\n",
    "X = df.drop(['startdate'], axis=1)\n",
    "X_train, X_test, y_train, y_test = train_test_split(X, y, test_size=0.3, random_state=312)"
   ]
  },
  {
   "cell_type": "code",
   "execution_count": 36,
   "id": "0207a982",
   "metadata": {},
   "outputs": [
    {
     "name": "stdout",
     "output_type": "stream",
     "text": [
      "[]\n"
     ]
    }
   ],
   "source": [
    "object_columns = [col for col in X_train.columns if X_train[col].dtype == 'object']\n",
    "print(object_columns)"
   ]
  },
  {
   "cell_type": "code",
   "execution_count": 39,
   "id": "030bb900",
   "metadata": {},
   "outputs": [
    {
     "data": {
      "text/plain": [
       "(263013, 217)"
      ]
     },
     "execution_count": 39,
     "metadata": {},
     "output_type": "execute_result"
    }
   ],
   "source": [
    "X_train.shape"
   ]
  },
  {
   "cell_type": "code",
   "execution_count": 40,
   "id": "98af32eb",
   "metadata": {},
   "outputs": [
    {
     "data": {
      "text/plain": [
       "(263013,)"
      ]
     },
     "execution_count": 40,
     "metadata": {},
     "output_type": "execute_result"
    }
   ],
   "source": [
    "y_train.shape"
   ]
  },
  {
   "cell_type": "code",
   "execution_count": null,
   "id": "0f0f3afe",
   "metadata": {},
   "outputs": [],
   "source": [
    "from sklearn.preprocessing import StandardScaler\n",
    "from sklearn.pipeline import Pipeline\n",
    "from sklearn.ensemble import RandomForestRegressor\n",
    "\n",
    "pipeline = Pipeline(steps = [\n",
    "              ('scaler', StandardScaler())\n",
    "              ,('regressor',RandomForestRegressor(n_estimators=100, max_depth=10, min_samples_split=2, min_samples_leaf=1, max_features='sqrt')))\n",
    "           ])"
   ]
  },
  {
   "cell_type": "code",
   "execution_count": null,
   "id": "20051303",
   "metadata": {},
   "outputs": [],
   "source": [
    "rf_model2 = pipeline.fit(X_train, y_train)"
   ]
  },
  {
   "cell_type": "code",
   "execution_count": null,
   "id": "a8b5b040",
   "metadata": {},
   "outputs": [],
   "source": [
    "train_preds = rf_model2.predict(X_train)\n",
    "train_rmse = np.sqrt(mean_squared_error(y_train,train_preds))\n",
    "print (f'Training Performance: {train_rmse}')\n",
    "train_score = r2_score(y_train, train_preds)\n",
    "print (f'Training Performance: {train_score}')\n",
    "\n",
    "\n",
    "test_preds = rf_model2.predict(x_test_reduced)\n",
    "test_rmse = np.sqrt(mean_squared_error(y_train,test_preds))\n",
    "print (f'Test Performance: {test_rmse}')\n",
    "test_score = r2_score(y_test, test_preds)\n",
    "print (f'Test Performance: {test_score}')"
   ]
  }
 ],
 "metadata": {
  "kernelspec": {
   "display_name": "Python 3 (ipykernel)",
   "language": "python",
   "name": "python3"
  },
  "language_info": {
   "codemirror_mode": {
    "name": "ipython",
    "version": 3
   },
   "file_extension": ".py",
   "mimetype": "text/x-python",
   "name": "python",
   "nbconvert_exporter": "python",
   "pygments_lexer": "ipython3",
   "version": "3.9.12"
  }
 },
 "nbformat": 4,
 "nbformat_minor": 5
}
